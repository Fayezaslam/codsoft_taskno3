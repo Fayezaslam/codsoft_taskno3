{
 "cells": [
  {
   "cell_type": "code",
   "execution_count": 142,
   "id": "28a7db95",
   "metadata": {
    "execution": {
     "iopub.execute_input": "2023-08-19T11:08:00.663521Z",
     "iopub.status.busy": "2023-08-19T11:08:00.662011Z",
     "iopub.status.idle": "2023-08-19T11:08:02.496477Z",
     "shell.execute_reply": "2023-08-19T11:08:02.494904Z"
    },
    "papermill": {
     "duration": 1.870749,
     "end_time": "2023-08-19T11:08:02.500219",
     "exception": false,
     "start_time": "2023-08-19T11:08:00.629470",
     "status": "completed"
    },
    "tags": []
   },
   "outputs": [],
   "source": [
    "#Importing libraries\n",
    "import numpy as np\n",
    "import matplotlib.pyplot as plt\n",
    "import seaborn as sns\n",
    "import pandas as pd\n",
    "import sklearn"
   ]
  },
  {
   "cell_type": "code",
   "execution_count": 143,
   "id": "5a38ffc0",
   "metadata": {
    "execution": {
     "iopub.execute_input": "2023-08-19T11:08:02.564056Z",
     "iopub.status.busy": "2023-08-19T11:08:02.563606Z",
     "iopub.status.idle": "2023-08-19T11:08:02.626265Z",
     "shell.execute_reply": "2023-08-19T11:08:02.624949Z"
    },
    "papermill": {
     "duration": 0.099105,
     "end_time": "2023-08-19T11:08:02.629145",
     "exception": false,
     "start_time": "2023-08-19T11:08:02.530040",
     "status": "completed"
    },
    "tags": []
   },
   "outputs": [],
   "source": [
    "churn=pd.read_csv('Churn_Modelling.csv')"
   ]
  },
  {
   "cell_type": "code",
   "execution_count": 144,
   "id": "5ad685c9",
   "metadata": {
    "execution": {
     "iopub.execute_input": "2023-08-19T11:08:02.693343Z",
     "iopub.status.busy": "2023-08-19T11:08:02.692935Z",
     "iopub.status.idle": "2023-08-19T11:08:02.724920Z",
     "shell.execute_reply": "2023-08-19T11:08:02.723734Z"
    },
    "papermill": {
     "duration": 0.065917,
     "end_time": "2023-08-19T11:08:02.727476",
     "exception": false,
     "start_time": "2023-08-19T11:08:02.661559",
     "status": "completed"
    },
    "tags": []
   },
   "outputs": [
    {
     "data": {
      "text/html": [
       "<div>\n",
       "<style scoped>\n",
       "    .dataframe tbody tr th:only-of-type {\n",
       "        vertical-align: middle;\n",
       "    }\n",
       "\n",
       "    .dataframe tbody tr th {\n",
       "        vertical-align: top;\n",
       "    }\n",
       "\n",
       "    .dataframe thead th {\n",
       "        text-align: right;\n",
       "    }\n",
       "</style>\n",
       "<table border=\"1\" class=\"dataframe\">\n",
       "  <thead>\n",
       "    <tr style=\"text-align: right;\">\n",
       "      <th></th>\n",
       "      <th>RowNumber</th>\n",
       "      <th>CustomerId</th>\n",
       "      <th>Surname</th>\n",
       "      <th>CreditScore</th>\n",
       "      <th>Geography</th>\n",
       "      <th>Gender</th>\n",
       "      <th>Age</th>\n",
       "      <th>Tenure</th>\n",
       "      <th>Balance</th>\n",
       "      <th>NumOfProducts</th>\n",
       "      <th>HasCrCard</th>\n",
       "      <th>IsActiveMember</th>\n",
       "      <th>EstimatedSalary</th>\n",
       "      <th>Exited</th>\n",
       "    </tr>\n",
       "  </thead>\n",
       "  <tbody>\n",
       "    <tr>\n",
       "      <th>0</th>\n",
       "      <td>1</td>\n",
       "      <td>15634602</td>\n",
       "      <td>Hargrave</td>\n",
       "      <td>619</td>\n",
       "      <td>France</td>\n",
       "      <td>Female</td>\n",
       "      <td>42</td>\n",
       "      <td>2</td>\n",
       "      <td>0.00</td>\n",
       "      <td>1</td>\n",
       "      <td>1</td>\n",
       "      <td>1</td>\n",
       "      <td>101348.88</td>\n",
       "      <td>1</td>\n",
       "    </tr>\n",
       "    <tr>\n",
       "      <th>1</th>\n",
       "      <td>2</td>\n",
       "      <td>15647311</td>\n",
       "      <td>Hill</td>\n",
       "      <td>608</td>\n",
       "      <td>Spain</td>\n",
       "      <td>Female</td>\n",
       "      <td>41</td>\n",
       "      <td>1</td>\n",
       "      <td>83807.86</td>\n",
       "      <td>1</td>\n",
       "      <td>0</td>\n",
       "      <td>1</td>\n",
       "      <td>112542.58</td>\n",
       "      <td>0</td>\n",
       "    </tr>\n",
       "    <tr>\n",
       "      <th>2</th>\n",
       "      <td>3</td>\n",
       "      <td>15619304</td>\n",
       "      <td>Onio</td>\n",
       "      <td>502</td>\n",
       "      <td>France</td>\n",
       "      <td>Female</td>\n",
       "      <td>42</td>\n",
       "      <td>8</td>\n",
       "      <td>159660.80</td>\n",
       "      <td>3</td>\n",
       "      <td>1</td>\n",
       "      <td>0</td>\n",
       "      <td>113931.57</td>\n",
       "      <td>1</td>\n",
       "    </tr>\n",
       "    <tr>\n",
       "      <th>3</th>\n",
       "      <td>4</td>\n",
       "      <td>15701354</td>\n",
       "      <td>Boni</td>\n",
       "      <td>699</td>\n",
       "      <td>France</td>\n",
       "      <td>Female</td>\n",
       "      <td>39</td>\n",
       "      <td>1</td>\n",
       "      <td>0.00</td>\n",
       "      <td>2</td>\n",
       "      <td>0</td>\n",
       "      <td>0</td>\n",
       "      <td>93826.63</td>\n",
       "      <td>0</td>\n",
       "    </tr>\n",
       "    <tr>\n",
       "      <th>4</th>\n",
       "      <td>5</td>\n",
       "      <td>15737888</td>\n",
       "      <td>Mitchell</td>\n",
       "      <td>850</td>\n",
       "      <td>Spain</td>\n",
       "      <td>Female</td>\n",
       "      <td>43</td>\n",
       "      <td>2</td>\n",
       "      <td>125510.82</td>\n",
       "      <td>1</td>\n",
       "      <td>1</td>\n",
       "      <td>1</td>\n",
       "      <td>79084.10</td>\n",
       "      <td>0</td>\n",
       "    </tr>\n",
       "  </tbody>\n",
       "</table>\n",
       "</div>"
      ],
      "text/plain": [
       "   RowNumber  CustomerId   Surname  CreditScore Geography  Gender  Age  \\\n",
       "0          1    15634602  Hargrave          619    France  Female   42   \n",
       "1          2    15647311      Hill          608     Spain  Female   41   \n",
       "2          3    15619304      Onio          502    France  Female   42   \n",
       "3          4    15701354      Boni          699    France  Female   39   \n",
       "4          5    15737888  Mitchell          850     Spain  Female   43   \n",
       "\n",
       "   Tenure    Balance  NumOfProducts  HasCrCard  IsActiveMember  \\\n",
       "0       2       0.00              1          1               1   \n",
       "1       1   83807.86              1          0               1   \n",
       "2       8  159660.80              3          1               0   \n",
       "3       1       0.00              2          0               0   \n",
       "4       2  125510.82              1          1               1   \n",
       "\n",
       "   EstimatedSalary  Exited  \n",
       "0        101348.88       1  \n",
       "1        112542.58       0  \n",
       "2        113931.57       1  \n",
       "3         93826.63       0  \n",
       "4         79084.10       0  "
      ]
     },
     "execution_count": 144,
     "metadata": {},
     "output_type": "execute_result"
    }
   ],
   "source": [
    "churn.head()"
   ]
  },
  {
   "cell_type": "code",
   "execution_count": 145,
   "id": "ebd493a8",
   "metadata": {
    "execution": {
     "iopub.execute_input": "2023-08-19T11:08:02.789988Z",
     "iopub.status.busy": "2023-08-19T11:08:02.789570Z",
     "iopub.status.idle": "2023-08-19T11:08:02.810577Z",
     "shell.execute_reply": "2023-08-19T11:08:02.809322Z"
    },
    "papermill": {
     "duration": 0.054831,
     "end_time": "2023-08-19T11:08:02.813005",
     "exception": false,
     "start_time": "2023-08-19T11:08:02.758174",
     "status": "completed"
    },
    "tags": []
   },
   "outputs": [
    {
     "data": {
      "text/html": [
       "<div>\n",
       "<style scoped>\n",
       "    .dataframe tbody tr th:only-of-type {\n",
       "        vertical-align: middle;\n",
       "    }\n",
       "\n",
       "    .dataframe tbody tr th {\n",
       "        vertical-align: top;\n",
       "    }\n",
       "\n",
       "    .dataframe thead th {\n",
       "        text-align: right;\n",
       "    }\n",
       "</style>\n",
       "<table border=\"1\" class=\"dataframe\">\n",
       "  <thead>\n",
       "    <tr style=\"text-align: right;\">\n",
       "      <th></th>\n",
       "      <th>RowNumber</th>\n",
       "      <th>CustomerId</th>\n",
       "      <th>Surname</th>\n",
       "      <th>CreditScore</th>\n",
       "      <th>Geography</th>\n",
       "      <th>Gender</th>\n",
       "      <th>Age</th>\n",
       "      <th>Tenure</th>\n",
       "      <th>Balance</th>\n",
       "      <th>NumOfProducts</th>\n",
       "      <th>HasCrCard</th>\n",
       "      <th>IsActiveMember</th>\n",
       "      <th>EstimatedSalary</th>\n",
       "      <th>Exited</th>\n",
       "    </tr>\n",
       "  </thead>\n",
       "  <tbody>\n",
       "    <tr>\n",
       "      <th>9995</th>\n",
       "      <td>9996</td>\n",
       "      <td>15606229</td>\n",
       "      <td>Obijiaku</td>\n",
       "      <td>771</td>\n",
       "      <td>France</td>\n",
       "      <td>Male</td>\n",
       "      <td>39</td>\n",
       "      <td>5</td>\n",
       "      <td>0.00</td>\n",
       "      <td>2</td>\n",
       "      <td>1</td>\n",
       "      <td>0</td>\n",
       "      <td>96270.64</td>\n",
       "      <td>0</td>\n",
       "    </tr>\n",
       "    <tr>\n",
       "      <th>9996</th>\n",
       "      <td>9997</td>\n",
       "      <td>15569892</td>\n",
       "      <td>Johnstone</td>\n",
       "      <td>516</td>\n",
       "      <td>France</td>\n",
       "      <td>Male</td>\n",
       "      <td>35</td>\n",
       "      <td>10</td>\n",
       "      <td>57369.61</td>\n",
       "      <td>1</td>\n",
       "      <td>1</td>\n",
       "      <td>1</td>\n",
       "      <td>101699.77</td>\n",
       "      <td>0</td>\n",
       "    </tr>\n",
       "    <tr>\n",
       "      <th>9997</th>\n",
       "      <td>9998</td>\n",
       "      <td>15584532</td>\n",
       "      <td>Liu</td>\n",
       "      <td>709</td>\n",
       "      <td>France</td>\n",
       "      <td>Female</td>\n",
       "      <td>36</td>\n",
       "      <td>7</td>\n",
       "      <td>0.00</td>\n",
       "      <td>1</td>\n",
       "      <td>0</td>\n",
       "      <td>1</td>\n",
       "      <td>42085.58</td>\n",
       "      <td>1</td>\n",
       "    </tr>\n",
       "    <tr>\n",
       "      <th>9998</th>\n",
       "      <td>9999</td>\n",
       "      <td>15682355</td>\n",
       "      <td>Sabbatini</td>\n",
       "      <td>772</td>\n",
       "      <td>Germany</td>\n",
       "      <td>Male</td>\n",
       "      <td>42</td>\n",
       "      <td>3</td>\n",
       "      <td>75075.31</td>\n",
       "      <td>2</td>\n",
       "      <td>1</td>\n",
       "      <td>0</td>\n",
       "      <td>92888.52</td>\n",
       "      <td>1</td>\n",
       "    </tr>\n",
       "    <tr>\n",
       "      <th>9999</th>\n",
       "      <td>10000</td>\n",
       "      <td>15628319</td>\n",
       "      <td>Walker</td>\n",
       "      <td>792</td>\n",
       "      <td>France</td>\n",
       "      <td>Female</td>\n",
       "      <td>28</td>\n",
       "      <td>4</td>\n",
       "      <td>130142.79</td>\n",
       "      <td>1</td>\n",
       "      <td>1</td>\n",
       "      <td>0</td>\n",
       "      <td>38190.78</td>\n",
       "      <td>0</td>\n",
       "    </tr>\n",
       "  </tbody>\n",
       "</table>\n",
       "</div>"
      ],
      "text/plain": [
       "      RowNumber  CustomerId    Surname  CreditScore Geography  Gender  Age  \\\n",
       "9995       9996    15606229   Obijiaku          771    France    Male   39   \n",
       "9996       9997    15569892  Johnstone          516    France    Male   35   \n",
       "9997       9998    15584532        Liu          709    France  Female   36   \n",
       "9998       9999    15682355  Sabbatini          772   Germany    Male   42   \n",
       "9999      10000    15628319     Walker          792    France  Female   28   \n",
       "\n",
       "      Tenure    Balance  NumOfProducts  HasCrCard  IsActiveMember  \\\n",
       "9995       5       0.00              2          1               0   \n",
       "9996      10   57369.61              1          1               1   \n",
       "9997       7       0.00              1          0               1   \n",
       "9998       3   75075.31              2          1               0   \n",
       "9999       4  130142.79              1          1               0   \n",
       "\n",
       "      EstimatedSalary  Exited  \n",
       "9995         96270.64       0  \n",
       "9996        101699.77       0  \n",
       "9997         42085.58       1  \n",
       "9998         92888.52       1  \n",
       "9999         38190.78       0  "
      ]
     },
     "execution_count": 145,
     "metadata": {},
     "output_type": "execute_result"
    }
   ],
   "source": [
    "churn.tail()"
   ]
  },
  {
   "cell_type": "code",
   "execution_count": 146,
   "id": "8aa78d7d",
   "metadata": {
    "execution": {
     "iopub.execute_input": "2023-08-19T11:08:02.876015Z",
     "iopub.status.busy": "2023-08-19T11:08:02.875585Z",
     "iopub.status.idle": "2023-08-19T11:08:02.883167Z",
     "shell.execute_reply": "2023-08-19T11:08:02.882227Z"
    },
    "papermill": {
     "duration": 0.041953,
     "end_time": "2023-08-19T11:08:02.885370",
     "exception": false,
     "start_time": "2023-08-19T11:08:02.843417",
     "status": "completed"
    },
    "tags": []
   },
   "outputs": [
    {
     "data": {
      "text/plain": [
       "(10000, 14)"
      ]
     },
     "execution_count": 146,
     "metadata": {},
     "output_type": "execute_result"
    }
   ],
   "source": [
    "churn.shape"
   ]
  },
  {
   "cell_type": "code",
   "execution_count": 147,
   "id": "332d4033",
   "metadata": {
    "execution": {
     "iopub.execute_input": "2023-08-19T11:08:02.949980Z",
     "iopub.status.busy": "2023-08-19T11:08:02.949513Z",
     "iopub.status.idle": "2023-08-19T11:08:02.959439Z",
     "shell.execute_reply": "2023-08-19T11:08:02.957987Z"
    },
    "papermill": {
     "duration": 0.044727,
     "end_time": "2023-08-19T11:08:02.962156",
     "exception": false,
     "start_time": "2023-08-19T11:08:02.917429",
     "status": "completed"
    },
    "tags": []
   },
   "outputs": [
    {
     "data": {
      "text/plain": [
       "140000"
      ]
     },
     "execution_count": 147,
     "metadata": {},
     "output_type": "execute_result"
    }
   ],
   "source": [
    "churn.size"
   ]
  },
  {
   "cell_type": "code",
   "execution_count": 148,
   "id": "204c1835",
   "metadata": {
    "execution": {
     "iopub.execute_input": "2023-08-19T11:08:03.026739Z",
     "iopub.status.busy": "2023-08-19T11:08:03.026243Z",
     "iopub.status.idle": "2023-08-19T11:08:03.032490Z",
     "shell.execute_reply": "2023-08-19T11:08:03.031164Z"
    },
    "papermill": {
     "duration": 0.041904,
     "end_time": "2023-08-19T11:08:03.035444",
     "exception": false,
     "start_time": "2023-08-19T11:08:02.993540",
     "status": "completed"
    },
    "tags": []
   },
   "outputs": [],
   "source": [
    "churn.columns=churn.columns.str.strip()"
   ]
  },
  {
   "cell_type": "code",
   "execution_count": 149,
   "id": "6607f89c",
   "metadata": {
    "execution": {
     "iopub.execute_input": "2023-08-19T11:08:03.102583Z",
     "iopub.status.busy": "2023-08-19T11:08:03.102101Z",
     "iopub.status.idle": "2023-08-19T11:08:03.108578Z",
     "shell.execute_reply": "2023-08-19T11:08:03.107190Z"
    },
    "papermill": {
     "duration": 0.042964,
     "end_time": "2023-08-19T11:08:03.111419",
     "exception": false,
     "start_time": "2023-08-19T11:08:03.068455",
     "status": "completed"
    },
    "tags": []
   },
   "outputs": [],
   "source": [
    "churn.columns=churn.columns.str.lower()"
   ]
  },
  {
   "cell_type": "code",
   "execution_count": 150,
   "id": "7e7dc099",
   "metadata": {
    "execution": {
     "iopub.execute_input": "2023-08-19T11:08:03.181197Z",
     "iopub.status.busy": "2023-08-19T11:08:03.180686Z",
     "iopub.status.idle": "2023-08-19T11:08:03.188926Z",
     "shell.execute_reply": "2023-08-19T11:08:03.187648Z"
    },
    "papermill": {
     "duration": 0.047547,
     "end_time": "2023-08-19T11:08:03.191696",
     "exception": false,
     "start_time": "2023-08-19T11:08:03.144149",
     "status": "completed"
    },
    "tags": []
   },
   "outputs": [
    {
     "data": {
      "text/plain": [
       "Index(['rownumber', 'customerid', 'surname', 'creditscore', 'geography',\n",
       "       'gender', 'age', 'tenure', 'balance', 'numofproducts', 'hascrcard',\n",
       "       'isactivemember', 'estimatedsalary', 'exited'],\n",
       "      dtype='object')"
      ]
     },
     "execution_count": 150,
     "metadata": {},
     "output_type": "execute_result"
    }
   ],
   "source": [
    "churn.columns"
   ]
  },
  {
   "cell_type": "code",
   "execution_count": 151,
   "id": "c2a50a32",
   "metadata": {
    "execution": {
     "iopub.execute_input": "2023-08-19T11:08:03.255376Z",
     "iopub.status.busy": "2023-08-19T11:08:03.254943Z",
     "iopub.status.idle": "2023-08-19T11:08:03.276810Z",
     "shell.execute_reply": "2023-08-19T11:08:03.275285Z"
    },
    "papermill": {
     "duration": 0.057351,
     "end_time": "2023-08-19T11:08:03.279767",
     "exception": false,
     "start_time": "2023-08-19T11:08:03.222416",
     "status": "completed"
    },
    "tags": []
   },
   "outputs": [
    {
     "data": {
      "text/plain": [
       "rownumber          0\n",
       "customerid         0\n",
       "surname            0\n",
       "creditscore        0\n",
       "geography          0\n",
       "gender             0\n",
       "age                0\n",
       "tenure             0\n",
       "balance            0\n",
       "numofproducts      0\n",
       "hascrcard          0\n",
       "isactivemember     0\n",
       "estimatedsalary    0\n",
       "exited             0\n",
       "dtype: int64"
      ]
     },
     "execution_count": 151,
     "metadata": {},
     "output_type": "execute_result"
    }
   ],
   "source": [
    "churn.isna().sum()"
   ]
  },
  {
   "cell_type": "code",
   "execution_count": 152,
   "id": "6a747571",
   "metadata": {
    "execution": {
     "iopub.execute_input": "2023-08-19T11:08:03.345687Z",
     "iopub.status.busy": "2023-08-19T11:08:03.345238Z",
     "iopub.status.idle": "2023-08-19T11:08:03.365104Z",
     "shell.execute_reply": "2023-08-19T11:08:03.364162Z"
    },
    "papermill": {
     "duration": 0.055597,
     "end_time": "2023-08-19T11:08:03.367477",
     "exception": false,
     "start_time": "2023-08-19T11:08:03.311880",
     "status": "completed"
    },
    "tags": []
   },
   "outputs": [
    {
     "data": {
      "text/html": [
       "<div>\n",
       "<style scoped>\n",
       "    .dataframe tbody tr th:only-of-type {\n",
       "        vertical-align: middle;\n",
       "    }\n",
       "\n",
       "    .dataframe tbody tr th {\n",
       "        vertical-align: top;\n",
       "    }\n",
       "\n",
       "    .dataframe thead th {\n",
       "        text-align: right;\n",
       "    }\n",
       "</style>\n",
       "<table border=\"1\" class=\"dataframe\">\n",
       "  <thead>\n",
       "    <tr style=\"text-align: right;\">\n",
       "      <th></th>\n",
       "      <th>rownumber</th>\n",
       "      <th>customerid</th>\n",
       "      <th>surname</th>\n",
       "      <th>creditscore</th>\n",
       "      <th>geography</th>\n",
       "      <th>gender</th>\n",
       "      <th>age</th>\n",
       "      <th>tenure</th>\n",
       "      <th>balance</th>\n",
       "      <th>numofproducts</th>\n",
       "      <th>hascrcard</th>\n",
       "      <th>isactivemember</th>\n",
       "      <th>estimatedsalary</th>\n",
       "      <th>exited</th>\n",
       "    </tr>\n",
       "  </thead>\n",
       "  <tbody>\n",
       "  </tbody>\n",
       "</table>\n",
       "</div>"
      ],
      "text/plain": [
       "Empty DataFrame\n",
       "Columns: [rownumber, customerid, surname, creditscore, geography, gender, age, tenure, balance, numofproducts, hascrcard, isactivemember, estimatedsalary, exited]\n",
       "Index: []"
      ]
     },
     "execution_count": 152,
     "metadata": {},
     "output_type": "execute_result"
    }
   ],
   "source": [
    "churn[churn.duplicated(subset=['customerid'],keep=False)]"
   ]
  },
  {
   "cell_type": "code",
   "execution_count": 153,
   "id": "2e985921",
   "metadata": {
    "execution": {
     "iopub.execute_input": "2023-08-19T11:08:03.433937Z",
     "iopub.status.busy": "2023-08-19T11:08:03.432831Z",
     "iopub.status.idle": "2023-08-19T11:08:03.469693Z",
     "shell.execute_reply": "2023-08-19T11:08:03.467711Z"
    },
    "papermill": {
     "duration": 0.073563,
     "end_time": "2023-08-19T11:08:03.472535",
     "exception": false,
     "start_time": "2023-08-19T11:08:03.398972",
     "status": "completed"
    },
    "tags": []
   },
   "outputs": [
    {
     "name": "stdout",
     "output_type": "stream",
     "text": [
      "<class 'pandas.core.frame.DataFrame'>\n",
      "RangeIndex: 10000 entries, 0 to 9999\n",
      "Data columns (total 14 columns):\n",
      " #   Column           Non-Null Count  Dtype  \n",
      "---  ------           --------------  -----  \n",
      " 0   rownumber        10000 non-null  int64  \n",
      " 1   customerid       10000 non-null  int64  \n",
      " 2   surname          10000 non-null  object \n",
      " 3   creditscore      10000 non-null  int64  \n",
      " 4   geography        10000 non-null  object \n",
      " 5   gender           10000 non-null  object \n",
      " 6   age              10000 non-null  int64  \n",
      " 7   tenure           10000 non-null  int64  \n",
      " 8   balance          10000 non-null  float64\n",
      " 9   numofproducts    10000 non-null  int64  \n",
      " 10  hascrcard        10000 non-null  int64  \n",
      " 11  isactivemember   10000 non-null  int64  \n",
      " 12  estimatedsalary  10000 non-null  float64\n",
      " 13  exited           10000 non-null  int64  \n",
      "dtypes: float64(2), int64(9), object(3)\n",
      "memory usage: 1.1+ MB\n"
     ]
    }
   ],
   "source": [
    "churn.info()"
   ]
  },
  {
   "cell_type": "code",
   "execution_count": 154,
   "id": "d64cad91",
   "metadata": {
    "execution": {
     "iopub.execute_input": "2023-08-19T11:08:03.538550Z",
     "iopub.status.busy": "2023-08-19T11:08:03.538128Z",
     "iopub.status.idle": "2023-08-19T11:08:03.594038Z",
     "shell.execute_reply": "2023-08-19T11:08:03.593123Z"
    },
    "papermill": {
     "duration": 0.090862,
     "end_time": "2023-08-19T11:08:03.596424",
     "exception": false,
     "start_time": "2023-08-19T11:08:03.505562",
     "status": "completed"
    },
    "tags": []
   },
   "outputs": [
    {
     "data": {
      "text/html": [
       "<div>\n",
       "<style scoped>\n",
       "    .dataframe tbody tr th:only-of-type {\n",
       "        vertical-align: middle;\n",
       "    }\n",
       "\n",
       "    .dataframe tbody tr th {\n",
       "        vertical-align: top;\n",
       "    }\n",
       "\n",
       "    .dataframe thead th {\n",
       "        text-align: right;\n",
       "    }\n",
       "</style>\n",
       "<table border=\"1\" class=\"dataframe\">\n",
       "  <thead>\n",
       "    <tr style=\"text-align: right;\">\n",
       "      <th></th>\n",
       "      <th>rownumber</th>\n",
       "      <th>customerid</th>\n",
       "      <th>creditscore</th>\n",
       "      <th>age</th>\n",
       "      <th>tenure</th>\n",
       "      <th>balance</th>\n",
       "      <th>numofproducts</th>\n",
       "      <th>hascrcard</th>\n",
       "      <th>isactivemember</th>\n",
       "      <th>estimatedsalary</th>\n",
       "      <th>exited</th>\n",
       "    </tr>\n",
       "  </thead>\n",
       "  <tbody>\n",
       "    <tr>\n",
       "      <th>count</th>\n",
       "      <td>10000.00000</td>\n",
       "      <td>1.000000e+04</td>\n",
       "      <td>10000.000000</td>\n",
       "      <td>10000.000000</td>\n",
       "      <td>10000.000000</td>\n",
       "      <td>10000.000000</td>\n",
       "      <td>10000.000000</td>\n",
       "      <td>10000.00000</td>\n",
       "      <td>10000.000000</td>\n",
       "      <td>10000.000000</td>\n",
       "      <td>10000.000000</td>\n",
       "    </tr>\n",
       "    <tr>\n",
       "      <th>mean</th>\n",
       "      <td>5000.50000</td>\n",
       "      <td>1.569094e+07</td>\n",
       "      <td>650.528800</td>\n",
       "      <td>38.921800</td>\n",
       "      <td>5.012800</td>\n",
       "      <td>76485.889288</td>\n",
       "      <td>1.530200</td>\n",
       "      <td>0.70550</td>\n",
       "      <td>0.515100</td>\n",
       "      <td>100090.239881</td>\n",
       "      <td>0.203700</td>\n",
       "    </tr>\n",
       "    <tr>\n",
       "      <th>std</th>\n",
       "      <td>2886.89568</td>\n",
       "      <td>7.193619e+04</td>\n",
       "      <td>96.653299</td>\n",
       "      <td>10.487806</td>\n",
       "      <td>2.892174</td>\n",
       "      <td>62397.405202</td>\n",
       "      <td>0.581654</td>\n",
       "      <td>0.45584</td>\n",
       "      <td>0.499797</td>\n",
       "      <td>57510.492818</td>\n",
       "      <td>0.402769</td>\n",
       "    </tr>\n",
       "    <tr>\n",
       "      <th>min</th>\n",
       "      <td>1.00000</td>\n",
       "      <td>1.556570e+07</td>\n",
       "      <td>350.000000</td>\n",
       "      <td>18.000000</td>\n",
       "      <td>0.000000</td>\n",
       "      <td>0.000000</td>\n",
       "      <td>1.000000</td>\n",
       "      <td>0.00000</td>\n",
       "      <td>0.000000</td>\n",
       "      <td>11.580000</td>\n",
       "      <td>0.000000</td>\n",
       "    </tr>\n",
       "    <tr>\n",
       "      <th>25%</th>\n",
       "      <td>2500.75000</td>\n",
       "      <td>1.562853e+07</td>\n",
       "      <td>584.000000</td>\n",
       "      <td>32.000000</td>\n",
       "      <td>3.000000</td>\n",
       "      <td>0.000000</td>\n",
       "      <td>1.000000</td>\n",
       "      <td>0.00000</td>\n",
       "      <td>0.000000</td>\n",
       "      <td>51002.110000</td>\n",
       "      <td>0.000000</td>\n",
       "    </tr>\n",
       "    <tr>\n",
       "      <th>50%</th>\n",
       "      <td>5000.50000</td>\n",
       "      <td>1.569074e+07</td>\n",
       "      <td>652.000000</td>\n",
       "      <td>37.000000</td>\n",
       "      <td>5.000000</td>\n",
       "      <td>97198.540000</td>\n",
       "      <td>1.000000</td>\n",
       "      <td>1.00000</td>\n",
       "      <td>1.000000</td>\n",
       "      <td>100193.915000</td>\n",
       "      <td>0.000000</td>\n",
       "    </tr>\n",
       "    <tr>\n",
       "      <th>75%</th>\n",
       "      <td>7500.25000</td>\n",
       "      <td>1.575323e+07</td>\n",
       "      <td>718.000000</td>\n",
       "      <td>44.000000</td>\n",
       "      <td>7.000000</td>\n",
       "      <td>127644.240000</td>\n",
       "      <td>2.000000</td>\n",
       "      <td>1.00000</td>\n",
       "      <td>1.000000</td>\n",
       "      <td>149388.247500</td>\n",
       "      <td>0.000000</td>\n",
       "    </tr>\n",
       "    <tr>\n",
       "      <th>max</th>\n",
       "      <td>10000.00000</td>\n",
       "      <td>1.581569e+07</td>\n",
       "      <td>850.000000</td>\n",
       "      <td>92.000000</td>\n",
       "      <td>10.000000</td>\n",
       "      <td>250898.090000</td>\n",
       "      <td>4.000000</td>\n",
       "      <td>1.00000</td>\n",
       "      <td>1.000000</td>\n",
       "      <td>199992.480000</td>\n",
       "      <td>1.000000</td>\n",
       "    </tr>\n",
       "  </tbody>\n",
       "</table>\n",
       "</div>"
      ],
      "text/plain": [
       "         rownumber    customerid   creditscore           age        tenure  \\\n",
       "count  10000.00000  1.000000e+04  10000.000000  10000.000000  10000.000000   \n",
       "mean    5000.50000  1.569094e+07    650.528800     38.921800      5.012800   \n",
       "std     2886.89568  7.193619e+04     96.653299     10.487806      2.892174   \n",
       "min        1.00000  1.556570e+07    350.000000     18.000000      0.000000   \n",
       "25%     2500.75000  1.562853e+07    584.000000     32.000000      3.000000   \n",
       "50%     5000.50000  1.569074e+07    652.000000     37.000000      5.000000   \n",
       "75%     7500.25000  1.575323e+07    718.000000     44.000000      7.000000   \n",
       "max    10000.00000  1.581569e+07    850.000000     92.000000     10.000000   \n",
       "\n",
       "             balance  numofproducts    hascrcard  isactivemember  \\\n",
       "count   10000.000000   10000.000000  10000.00000    10000.000000   \n",
       "mean    76485.889288       1.530200      0.70550        0.515100   \n",
       "std     62397.405202       0.581654      0.45584        0.499797   \n",
       "min         0.000000       1.000000      0.00000        0.000000   \n",
       "25%         0.000000       1.000000      0.00000        0.000000   \n",
       "50%     97198.540000       1.000000      1.00000        1.000000   \n",
       "75%    127644.240000       2.000000      1.00000        1.000000   \n",
       "max    250898.090000       4.000000      1.00000        1.000000   \n",
       "\n",
       "       estimatedsalary        exited  \n",
       "count     10000.000000  10000.000000  \n",
       "mean     100090.239881      0.203700  \n",
       "std       57510.492818      0.402769  \n",
       "min          11.580000      0.000000  \n",
       "25%       51002.110000      0.000000  \n",
       "50%      100193.915000      0.000000  \n",
       "75%      149388.247500      0.000000  \n",
       "max      199992.480000      1.000000  "
      ]
     },
     "execution_count": 154,
     "metadata": {},
     "output_type": "execute_result"
    }
   ],
   "source": [
    "churn.describe()"
   ]
  },
  {
   "cell_type": "code",
   "execution_count": 155,
   "id": "fdc00897",
   "metadata": {
    "execution": {
     "iopub.execute_input": "2023-08-19T11:08:03.665244Z",
     "iopub.status.busy": "2023-08-19T11:08:03.664772Z",
     "iopub.status.idle": "2023-08-19T11:08:03.995697Z",
     "shell.execute_reply": "2023-08-19T11:08:03.994412Z"
    },
    "papermill": {
     "duration": 0.369515,
     "end_time": "2023-08-19T11:08:03.998365",
     "exception": false,
     "start_time": "2023-08-19T11:08:03.628850",
     "status": "completed"
    },
    "tags": []
   },
   "outputs": [
    {
     "data": {
      "text/plain": [
       "<AxesSubplot:xlabel='exited', ylabel='count'>"
      ]
     },
     "execution_count": 155,
     "metadata": {},
     "output_type": "execute_result"
    },
    {
     "data": {
      "image/png": "[encoded data removed]",
      "text/plain": [
       "<Figure size 360x360 with 1 Axes>"
      ]
     },
     "metadata": {
      "needs_background": "light"
     },
     "output_type": "display_data"
    }
   ],
   "source": [
    "plt.figure(figsize=(5,5))\n",
    "sns.countplot(data=churn,x='exited')"
   ]
  },
  {
   "cell_type": "code",
   "execution_count": 156,
   "id": "b80de4c2",
   "metadata": {
    "execution": {
     "iopub.execute_input": "2023-08-19T11:08:04.066057Z",
     "iopub.status.busy": "2023-08-19T11:08:04.065635Z",
     "iopub.status.idle": "2023-08-19T11:08:04.077170Z",
     "shell.execute_reply": "2023-08-19T11:08:04.075957Z"
    },
    "papermill": {
     "duration": 0.048989,
     "end_time": "2023-08-19T11:08:04.079623",
     "exception": false,
     "start_time": "2023-08-19T11:08:04.030634",
     "status": "completed"
    },
    "tags": []
   },
   "outputs": [
    {
     "data": {
      "text/html": [
       "<div>\n",
       "<style scoped>\n",
       "    .dataframe tbody tr th:only-of-type {\n",
       "        vertical-align: middle;\n",
       "    }\n",
       "\n",
       "    .dataframe tbody tr th {\n",
       "        vertical-align: top;\n",
       "    }\n",
       "\n",
       "    .dataframe thead th {\n",
       "        text-align: right;\n",
       "    }\n",
       "</style>\n",
       "<table border=\"1\" class=\"dataframe\">\n",
       "  <thead>\n",
       "    <tr style=\"text-align: right;\">\n",
       "      <th></th>\n",
       "      <th>exited</th>\n",
       "    </tr>\n",
       "  </thead>\n",
       "  <tbody>\n",
       "    <tr>\n",
       "      <th>0</th>\n",
       "      <td>7963</td>\n",
       "    </tr>\n",
       "    <tr>\n",
       "      <th>1</th>\n",
       "      <td>2037</td>\n",
       "    </tr>\n",
       "  </tbody>\n",
       "</table>\n",
       "</div>"
      ],
      "text/plain": [
       "   exited\n",
       "0    7963\n",
       "1    2037"
      ]
     },
     "execution_count": 156,
     "metadata": {},
     "output_type": "execute_result"
    }
   ],
   "source": [
    "churn['exited'].value_counts().to_frame()"
   ]
  },
  {
   "cell_type": "code",
   "execution_count": 157,
   "id": "1cfa09ba",
   "metadata": {
    "execution": {
     "iopub.execute_input": "2023-08-19T11:08:04.146730Z",
     "iopub.status.busy": "2023-08-19T11:08:04.145655Z",
     "iopub.status.idle": "2023-08-19T11:08:04.150743Z",
     "shell.execute_reply": "2023-08-19T11:08:04.149868Z"
    },
    "papermill": {
     "duration": 0.040892,
     "end_time": "2023-08-19T11:08:04.152955",
     "exception": false,
     "start_time": "2023-08-19T11:08:04.112063",
     "status": "completed"
    },
    "tags": []
   },
   "outputs": [],
   "source": [
    "from sklearn.utils import resample"
   ]
  },
  {
   "cell_type": "code",
   "execution_count": 158,
   "id": "93dd6dbf",
   "metadata": {
    "execution": {
     "iopub.execute_input": "2023-08-19T11:08:04.220348Z",
     "iopub.status.busy": "2023-08-19T11:08:04.219033Z",
     "iopub.status.idle": "2023-08-19T11:08:04.227336Z",
     "shell.execute_reply": "2023-08-19T11:08:04.226004Z"
    },
    "papermill": {
     "duration": 0.044297,
     "end_time": "2023-08-19T11:08:04.229881",
     "exception": false,
     "start_time": "2023-08-19T11:08:04.185584",
     "status": "completed"
    },
    "tags": []
   },
   "outputs": [],
   "source": [
    "churn_majority=churn[churn['exited']==0]\n",
    "churn_minority=churn[churn['exited']==1]"
   ]
  },
  {
   "cell_type": "code",
   "execution_count": 159,
   "id": "a74b564c",
   "metadata": {
    "execution": {
     "iopub.execute_input": "2023-08-19T11:08:04.296552Z",
     "iopub.status.busy": "2023-08-19T11:08:04.296052Z",
     "iopub.status.idle": "2023-08-19T11:08:04.304362Z",
     "shell.execute_reply": "2023-08-19T11:08:04.303029Z"
    },
    "papermill": {
     "duration": 0.044726,
     "end_time": "2023-08-19T11:08:04.307187",
     "exception": false,
     "start_time": "2023-08-19T11:08:04.262461",
     "status": "completed"
    },
    "tags": []
   },
   "outputs": [],
   "source": [
    "churn_majority_downsample=resample(churn_majority,n_samples=2037,replace=False,random_state=42)"
   ]
  },
  {
   "cell_type": "code",
   "execution_count": 160,
   "id": "7fee596f",
   "metadata": {
    "execution": {
     "iopub.execute_input": "2023-08-19T11:08:04.378527Z",
     "iopub.status.busy": "2023-08-19T11:08:04.378096Z",
     "iopub.status.idle": "2023-08-19T11:08:04.386949Z",
     "shell.execute_reply": "2023-08-19T11:08:04.385721Z"
    },
    "papermill": {
     "duration": 0.048907,
     "end_time": "2023-08-19T11:08:04.389625",
     "exception": false,
     "start_time": "2023-08-19T11:08:04.340718",
     "status": "completed"
    },
    "tags": []
   },
   "outputs": [],
   "source": [
    "churn_df=pd.concat([churn_majority_downsample,churn_minority])"
   ]
  },
  {
   "cell_type": "code",
   "execution_count": 161,
   "id": "e0c5c453",
   "metadata": {
    "execution": {
     "iopub.execute_input": "2023-08-19T11:08:04.459346Z",
     "iopub.status.busy": "2023-08-19T11:08:04.458112Z",
     "iopub.status.idle": "2023-08-19T11:08:04.470020Z",
     "shell.execute_reply": "2023-08-19T11:08:04.469230Z"
    },
    "papermill": {
     "duration": 0.053492,
     "end_time": "2023-08-19T11:08:04.475442",
     "exception": false,
     "start_time": "2023-08-19T11:08:04.421950",
     "status": "completed"
    },
    "tags": []
   },
   "outputs": [
    {
     "data": {
      "text/html": [
       "<div>\n",
       "<style scoped>\n",
       "    .dataframe tbody tr th:only-of-type {\n",
       "        vertical-align: middle;\n",
       "    }\n",
       "\n",
       "    .dataframe tbody tr th {\n",
       "        vertical-align: top;\n",
       "    }\n",
       "\n",
       "    .dataframe thead th {\n",
       "        text-align: right;\n",
       "    }\n",
       "</style>\n",
       "<table border=\"1\" class=\"dataframe\">\n",
       "  <thead>\n",
       "    <tr style=\"text-align: right;\">\n",
       "      <th></th>\n",
       "      <th>exited</th>\n",
       "    </tr>\n",
       "  </thead>\n",
       "  <tbody>\n",
       "    <tr>\n",
       "      <th>0</th>\n",
       "      <td>2037</td>\n",
       "    </tr>\n",
       "    <tr>\n",
       "      <th>1</th>\n",
       "      <td>2037</td>\n",
       "    </tr>\n",
       "  </tbody>\n",
       "</table>\n",
       "</div>"
      ],
      "text/plain": [
       "   exited\n",
       "0    2037\n",
       "1    2037"
      ]
     },
     "execution_count": 161,
     "metadata": {},
     "output_type": "execute_result"
    }
   ],
   "source": [
    "churn_df['exited'].value_counts().to_frame()"
   ]
  },
  {
   "cell_type": "code",
   "execution_count": 162,
   "id": "ec46ec35",
   "metadata": {
    "execution": {
     "iopub.execute_input": "2023-08-19T11:08:04.556751Z",
     "iopub.status.busy": "2023-08-19T11:08:04.555831Z",
     "iopub.status.idle": "2023-08-19T11:08:04.844606Z",
     "shell.execute_reply": "2023-08-19T11:08:04.842947Z"
    },
    "papermill": {
     "duration": 0.333104,
     "end_time": "2023-08-19T11:08:04.848292",
     "exception": false,
     "start_time": "2023-08-19T11:08:04.515188",
     "status": "completed"
    },
    "tags": []
   },
   "outputs": [
    {
     "data": {
      "text/plain": [
       "<AxesSubplot:xlabel='exited', ylabel='count'>"
      ]
     },
     "execution_count": 162,
     "metadata": {},
     "output_type": "execute_result"
    },
    {
     "data": {
      "image/png": "[encoded data removed]",
      "text/plain": [
       "<Figure size 360x360 with 1 Axes>"
      ]
     },
     "metadata": {
      "needs_background": "light"
     },
     "output_type": "display_data"
    }
   ],
   "source": [
    "plt.figure(figsize=(5,5))\n",
    "sns.countplot(data=churn_df,x='exited')"
   ]
  },
  {
   "cell_type": "code",
   "execution_count": 163,
   "id": "cfff1459",
   "metadata": {
    "execution": {
     "iopub.execute_input": "2023-08-19T11:08:04.919284Z",
     "iopub.status.busy": "2023-08-19T11:08:04.918424Z",
     "iopub.status.idle": "2023-08-19T11:08:04.937749Z",
     "shell.execute_reply": "2023-08-19T11:08:04.936874Z"
    },
    "papermill": {
     "duration": 0.056923,
     "end_time": "2023-08-19T11:08:04.939848",
     "exception": false,
     "start_time": "2023-08-19T11:08:04.882925",
     "status": "completed"
    },
    "tags": []
   },
   "outputs": [
    {
     "data": {
      "text/html": [
       "<div>\n",
       "<style scoped>\n",
       "    .dataframe tbody tr th:only-of-type {\n",
       "        vertical-align: middle;\n",
       "    }\n",
       "\n",
       "    .dataframe tbody tr th {\n",
       "        vertical-align: top;\n",
       "    }\n",
       "\n",
       "    .dataframe thead th {\n",
       "        text-align: right;\n",
       "    }\n",
       "</style>\n",
       "<table border=\"1\" class=\"dataframe\">\n",
       "  <thead>\n",
       "    <tr style=\"text-align: right;\">\n",
       "      <th></th>\n",
       "      <th>rownumber</th>\n",
       "      <th>customerid</th>\n",
       "      <th>surname</th>\n",
       "      <th>creditscore</th>\n",
       "      <th>geography</th>\n",
       "      <th>gender</th>\n",
       "      <th>age</th>\n",
       "      <th>tenure</th>\n",
       "      <th>balance</th>\n",
       "      <th>numofproducts</th>\n",
       "      <th>hascrcard</th>\n",
       "      <th>isactivemember</th>\n",
       "      <th>estimatedsalary</th>\n",
       "      <th>exited</th>\n",
       "    </tr>\n",
       "  </thead>\n",
       "  <tbody>\n",
       "    <tr>\n",
       "      <th>8165</th>\n",
       "      <td>8166</td>\n",
       "      <td>15813503</td>\n",
       "      <td>Pickering</td>\n",
       "      <td>606</td>\n",
       "      <td>Spain</td>\n",
       "      <td>Male</td>\n",
       "      <td>37</td>\n",
       "      <td>8</td>\n",
       "      <td>154712.58</td>\n",
       "      <td>2</td>\n",
       "      <td>1</td>\n",
       "      <td>0</td>\n",
       "      <td>89099.18</td>\n",
       "      <td>0</td>\n",
       "    </tr>\n",
       "    <tr>\n",
       "      <th>6409</th>\n",
       "      <td>6410</td>\n",
       "      <td>15690695</td>\n",
       "      <td>Flynn</td>\n",
       "      <td>683</td>\n",
       "      <td>France</td>\n",
       "      <td>Female</td>\n",
       "      <td>33</td>\n",
       "      <td>9</td>\n",
       "      <td>0.00</td>\n",
       "      <td>2</td>\n",
       "      <td>1</td>\n",
       "      <td>1</td>\n",
       "      <td>38784.42</td>\n",
       "      <td>0</td>\n",
       "    </tr>\n",
       "    <tr>\n",
       "      <th>2157</th>\n",
       "      <td>2158</td>\n",
       "      <td>15750649</td>\n",
       "      <td>Uwakwe</td>\n",
       "      <td>744</td>\n",
       "      <td>France</td>\n",
       "      <td>Female</td>\n",
       "      <td>44</td>\n",
       "      <td>3</td>\n",
       "      <td>0.00</td>\n",
       "      <td>2</td>\n",
       "      <td>1</td>\n",
       "      <td>1</td>\n",
       "      <td>189016.14</td>\n",
       "      <td>0</td>\n",
       "    </tr>\n",
       "    <tr>\n",
       "      <th>1618</th>\n",
       "      <td>1619</td>\n",
       "      <td>15662955</td>\n",
       "      <td>Nicholls</td>\n",
       "      <td>697</td>\n",
       "      <td>France</td>\n",
       "      <td>Male</td>\n",
       "      <td>27</td>\n",
       "      <td>8</td>\n",
       "      <td>141223.68</td>\n",
       "      <td>2</td>\n",
       "      <td>1</td>\n",
       "      <td>0</td>\n",
       "      <td>90591.15</td>\n",
       "      <td>0</td>\n",
       "    </tr>\n",
       "    <tr>\n",
       "      <th>1633</th>\n",
       "      <td>1634</td>\n",
       "      <td>15755868</td>\n",
       "      <td>Farmer</td>\n",
       "      <td>562</td>\n",
       "      <td>France</td>\n",
       "      <td>Male</td>\n",
       "      <td>35</td>\n",
       "      <td>7</td>\n",
       "      <td>0.00</td>\n",
       "      <td>1</td>\n",
       "      <td>0</td>\n",
       "      <td>0</td>\n",
       "      <td>48869.67</td>\n",
       "      <td>0</td>\n",
       "    </tr>\n",
       "  </tbody>\n",
       "</table>\n",
       "</div>"
      ],
      "text/plain": [
       "      rownumber  customerid    surname  creditscore geography  gender  age  \\\n",
       "8165       8166    15813503  Pickering          606     Spain    Male   37   \n",
       "6409       6410    15690695      Flynn          683    France  Female   33   \n",
       "2157       2158    15750649     Uwakwe          744    France  Female   44   \n",
       "1618       1619    15662955   Nicholls          697    France    Male   27   \n",
       "1633       1634    15755868     Farmer          562    France    Male   35   \n",
       "\n",
       "      tenure    balance  numofproducts  hascrcard  isactivemember  \\\n",
       "8165       8  154712.58              2          1               0   \n",
       "6409       9       0.00              2          1               1   \n",
       "2157       3       0.00              2          1               1   \n",
       "1618       8  141223.68              2          1               0   \n",
       "1633       7       0.00              1          0               0   \n",
       "\n",
       "      estimatedsalary  exited  \n",
       "8165         89099.18       0  \n",
       "6409         38784.42       0  \n",
       "2157        189016.14       0  \n",
       "1618         90591.15       0  \n",
       "1633         48869.67       0  "
      ]
     },
     "execution_count": 163,
     "metadata": {},
     "output_type": "execute_result"
    }
   ],
   "source": [
    "churn_df.head(5)"
   ]
  },
  {
   "cell_type": "code",
   "execution_count": 164,
   "id": "ca300e61",
   "metadata": {
    "execution": {
     "iopub.execute_input": "2023-08-19T11:08:05.009023Z",
     "iopub.status.busy": "2023-08-19T11:08:05.008196Z",
     "iopub.status.idle": "2023-08-19T11:08:05.015748Z",
     "shell.execute_reply": "2023-08-19T11:08:05.014580Z"
    },
    "papermill": {
     "duration": 0.044905,
     "end_time": "2023-08-19T11:08:05.018243",
     "exception": false,
     "start_time": "2023-08-19T11:08:04.973338",
     "status": "completed"
    },
    "tags": []
   },
   "outputs": [
    {
     "data": {
      "text/plain": [
       "Index(['rownumber', 'customerid', 'surname', 'creditscore', 'geography',\n",
       "       'gender', 'age', 'tenure', 'balance', 'numofproducts', 'hascrcard',\n",
       "       'isactivemember', 'estimatedsalary', 'exited'],\n",
       "      dtype='object')"
      ]
     },
     "execution_count": 164,
     "metadata": {},
     "output_type": "execute_result"
    }
   ],
   "source": [
    "churn_df.columns"
   ]
  },
  {
   "cell_type": "code",
   "execution_count": 165,
   "id": "c36bc37d",
   "metadata": {
    "execution": {
     "iopub.execute_input": "2023-08-19T11:08:05.087876Z",
     "iopub.status.busy": "2023-08-19T11:08:05.087090Z",
     "iopub.status.idle": "2023-08-19T11:08:05.094904Z",
     "shell.execute_reply": "2023-08-19T11:08:05.093486Z"
    },
    "papermill": {
     "duration": 0.045697,
     "end_time": "2023-08-19T11:08:05.097631",
     "exception": false,
     "start_time": "2023-08-19T11:08:05.051934",
     "status": "completed"
    },
    "tags": []
   },
   "outputs": [],
   "source": [
    "churn_df.drop(['rownumber', 'customerid', 'surname','geography','gender'],axis=1,inplace=True)"
   ]
  },
  {
   "cell_type": "code",
   "execution_count": 166,
   "id": "7c3323d0",
   "metadata": {
    "execution": {
     "iopub.execute_input": "2023-08-19T11:08:05.167137Z",
     "iopub.status.busy": "2023-08-19T11:08:05.166694Z",
     "iopub.status.idle": "2023-08-19T11:08:05.189914Z",
     "shell.execute_reply": "2023-08-19T11:08:05.188606Z"
    },
    "papermill": {
     "duration": 0.061382,
     "end_time": "2023-08-19T11:08:05.192738",
     "exception": false,
     "start_time": "2023-08-19T11:08:05.131356",
     "status": "completed"
    },
    "tags": []
   },
   "outputs": [
    {
     "data": {
      "text/html": [
       "<div>\n",
       "<style scoped>\n",
       "    .dataframe tbody tr th:only-of-type {\n",
       "        vertical-align: middle;\n",
       "    }\n",
       "\n",
       "    .dataframe tbody tr th {\n",
       "        vertical-align: top;\n",
       "    }\n",
       "\n",
       "    .dataframe thead th {\n",
       "        text-align: right;\n",
       "    }\n",
       "</style>\n",
       "<table border=\"1\" class=\"dataframe\">\n",
       "  <thead>\n",
       "    <tr style=\"text-align: right;\">\n",
       "      <th></th>\n",
       "      <th>creditscore</th>\n",
       "      <th>age</th>\n",
       "      <th>tenure</th>\n",
       "      <th>balance</th>\n",
       "      <th>numofproducts</th>\n",
       "      <th>hascrcard</th>\n",
       "      <th>isactivemember</th>\n",
       "      <th>estimatedsalary</th>\n",
       "      <th>exited</th>\n",
       "    </tr>\n",
       "  </thead>\n",
       "  <tbody>\n",
       "    <tr>\n",
       "      <th>creditscore</th>\n",
       "      <td>1.000000</td>\n",
       "      <td>-0.019635</td>\n",
       "      <td>0.019156</td>\n",
       "      <td>0.022088</td>\n",
       "      <td>0.007916</td>\n",
       "      <td>0.002756</td>\n",
       "      <td>0.012992</td>\n",
       "      <td>-0.010973</td>\n",
       "      <td>-0.034660</td>\n",
       "    </tr>\n",
       "    <tr>\n",
       "      <th>age</th>\n",
       "      <td>-0.019635</td>\n",
       "      <td>1.000000</td>\n",
       "      <td>-0.029303</td>\n",
       "      <td>0.040785</td>\n",
       "      <td>-0.031884</td>\n",
       "      <td>-0.031115</td>\n",
       "      <td>0.016498</td>\n",
       "      <td>0.006669</td>\n",
       "      <td>0.343870</td>\n",
       "    </tr>\n",
       "    <tr>\n",
       "      <th>tenure</th>\n",
       "      <td>0.019156</td>\n",
       "      <td>-0.029303</td>\n",
       "      <td>1.000000</td>\n",
       "      <td>0.006340</td>\n",
       "      <td>0.019054</td>\n",
       "      <td>0.018600</td>\n",
       "      <td>-0.032413</td>\n",
       "      <td>0.025749</td>\n",
       "      <td>-0.016491</td>\n",
       "    </tr>\n",
       "    <tr>\n",
       "      <th>balance</th>\n",
       "      <td>0.022088</td>\n",
       "      <td>0.040785</td>\n",
       "      <td>0.006340</td>\n",
       "      <td>1.000000</td>\n",
       "      <td>-0.189561</td>\n",
       "      <td>-0.008388</td>\n",
       "      <td>-0.025617</td>\n",
       "      <td>0.001774</td>\n",
       "      <td>0.146820</td>\n",
       "    </tr>\n",
       "    <tr>\n",
       "      <th>numofproducts</th>\n",
       "      <td>0.007916</td>\n",
       "      <td>-0.031884</td>\n",
       "      <td>0.019054</td>\n",
       "      <td>-0.189561</td>\n",
       "      <td>1.000000</td>\n",
       "      <td>-0.008130</td>\n",
       "      <td>0.037570</td>\n",
       "      <td>0.008241</td>\n",
       "      <td>-0.054669</td>\n",
       "    </tr>\n",
       "    <tr>\n",
       "      <th>hascrcard</th>\n",
       "      <td>0.002756</td>\n",
       "      <td>-0.031115</td>\n",
       "      <td>0.018600</td>\n",
       "      <td>-0.008388</td>\n",
       "      <td>-0.008130</td>\n",
       "      <td>1.000000</td>\n",
       "      <td>-0.031892</td>\n",
       "      <td>-0.024178</td>\n",
       "      <td>-0.017800</td>\n",
       "    </tr>\n",
       "    <tr>\n",
       "      <th>isactivemember</th>\n",
       "      <td>0.012992</td>\n",
       "      <td>0.016498</td>\n",
       "      <td>-0.032413</td>\n",
       "      <td>-0.025617</td>\n",
       "      <td>0.037570</td>\n",
       "      <td>-0.031892</td>\n",
       "      <td>1.000000</td>\n",
       "      <td>-0.007396</td>\n",
       "      <td>-0.201877</td>\n",
       "    </tr>\n",
       "    <tr>\n",
       "      <th>estimatedsalary</th>\n",
       "      <td>-0.010973</td>\n",
       "      <td>0.006669</td>\n",
       "      <td>0.025749</td>\n",
       "      <td>0.001774</td>\n",
       "      <td>0.008241</td>\n",
       "      <td>-0.024178</td>\n",
       "      <td>-0.007396</td>\n",
       "      <td>1.000000</td>\n",
       "      <td>0.006173</td>\n",
       "    </tr>\n",
       "    <tr>\n",
       "      <th>exited</th>\n",
       "      <td>-0.034660</td>\n",
       "      <td>0.343870</td>\n",
       "      <td>-0.016491</td>\n",
       "      <td>0.146820</td>\n",
       "      <td>-0.054669</td>\n",
       "      <td>-0.017800</td>\n",
       "      <td>-0.201877</td>\n",
       "      <td>0.006173</td>\n",
       "      <td>1.000000</td>\n",
       "    </tr>\n",
       "  </tbody>\n",
       "</table>\n",
       "</div>"
      ],
      "text/plain": [
       "                 creditscore       age    tenure   balance  numofproducts  \\\n",
       "creditscore         1.000000 -0.019635  0.019156  0.022088       0.007916   \n",
       "age                -0.019635  1.000000 -0.029303  0.040785      -0.031884   \n",
       "tenure              0.019156 -0.029303  1.000000  0.006340       0.019054   \n",
       "balance             0.022088  0.040785  0.006340  1.000000      -0.189561   \n",
       "numofproducts       0.007916 -0.031884  0.019054 -0.189561       1.000000   \n",
       "hascrcard           0.002756 -0.031115  0.018600 -0.008388      -0.008130   \n",
       "isactivemember      0.012992  0.016498 -0.032413 -0.025617       0.037570   \n",
       "estimatedsalary    -0.010973  0.006669  0.025749  0.001774       0.008241   \n",
       "exited             -0.034660  0.343870 -0.016491  0.146820      -0.054669   \n",
       "\n",
       "                 hascrcard  isactivemember  estimatedsalary    exited  \n",
       "creditscore       0.002756        0.012992        -0.010973 -0.034660  \n",
       "age              -0.031115        0.016498         0.006669  0.343870  \n",
       "tenure            0.018600       -0.032413         0.025749 -0.016491  \n",
       "balance          -0.008388       -0.025617         0.001774  0.146820  \n",
       "numofproducts    -0.008130        0.037570         0.008241 -0.054669  \n",
       "hascrcard         1.000000       -0.031892        -0.024178 -0.017800  \n",
       "isactivemember   -0.031892        1.000000        -0.007396 -0.201877  \n",
       "estimatedsalary  -0.024178       -0.007396         1.000000  0.006173  \n",
       "exited           -0.017800       -0.201877         0.006173  1.000000  "
      ]
     },
     "execution_count": 166,
     "metadata": {},
     "output_type": "execute_result"
    }
   ],
   "source": [
    "churn_df.corr()"
   ]
  },
  {
   "cell_type": "code",
   "execution_count": 167,
   "id": "6e8d6c45",
   "metadata": {
    "execution": {
     "iopub.execute_input": "2023-08-19T11:08:05.263246Z",
     "iopub.status.busy": "2023-08-19T11:08:05.262860Z",
     "iopub.status.idle": "2023-08-19T11:08:06.012905Z",
     "shell.execute_reply": "2023-08-19T11:08:06.011581Z"
    },
    "papermill": {
     "duration": 0.789055,
     "end_time": "2023-08-19T11:08:06.015851",
     "exception": false,
     "start_time": "2023-08-19T11:08:05.226796",
     "status": "completed"
    },
    "tags": []
   },
   "outputs": [
    {
     "data": {
      "text/plain": [
       "<AxesSubplot:>"
      ]
     },
     "execution_count": 167,
     "metadata": {},
     "output_type": "execute_result"
    },
    {
     "data": {
      "image/png": "[encoded data removed]",
      "text/plain": [
       "<Figure size 720x360 with 2 Axes>"
      ]
     },
     "metadata": {
      "needs_background": "light"
     },
     "output_type": "display_data"
    }
   ],
   "source": [
    "plt.figure(figsize=(10,5))\n",
    "sns.heatmap(churn_df.corr(),annot=True,cmap='PiYG')"
   ]
  },
  {
   "cell_type": "code",
   "execution_count": 168,
   "id": "040eea5a",
   "metadata": {
    "execution": {
     "iopub.execute_input": "2023-08-19T11:08:06.090961Z",
     "iopub.status.busy": "2023-08-19T11:08:06.090484Z",
     "iopub.status.idle": "2023-08-19T11:08:06.099373Z",
     "shell.execute_reply": "2023-08-19T11:08:06.098248Z"
    },
    "papermill": {
     "duration": 0.049331,
     "end_time": "2023-08-19T11:08:06.102042",
     "exception": false,
     "start_time": "2023-08-19T11:08:06.052711",
     "status": "completed"
    },
    "tags": []
   },
   "outputs": [],
   "source": [
    "df_corr_exit=churn_df.corr()['exited'].to_frame()"
   ]
  },
  {
   "cell_type": "code",
   "execution_count": 169,
   "id": "75b71ad6",
   "metadata": {
    "execution": {
     "iopub.execute_input": "2023-08-19T11:08:06.176885Z",
     "iopub.status.busy": "2023-08-19T11:08:06.176464Z",
     "iopub.status.idle": "2023-08-19T11:08:06.560753Z",
     "shell.execute_reply": "2023-08-19T11:08:06.559146Z"
    },
    "papermill": {
     "duration": 0.424559,
     "end_time": "2023-08-19T11:08:06.563803",
     "exception": false,
     "start_time": "2023-08-19T11:08:06.139244",
     "status": "completed"
    },
    "tags": []
   },
   "outputs": [
    {
     "data": {
      "text/plain": [
       "<AxesSubplot:ylabel='exited'>"
      ]
     },
     "execution_count": 169,
     "metadata": {},
     "output_type": "execute_result"
    },
    {
     "data": {
      "image/png": "[encoded data removed]",
      "text/plain": [
       "<Figure size 720x360 with 1 Axes>"
      ]
     },
     "metadata": {
      "needs_background": "light"
     },
     "output_type": "display_data"
    }
   ],
   "source": [
    "plt.figure(figsize=(10,5))\n",
    "cols = ['darkblue' if age < 18 else 'green' for age in churn_df.exited]\n",
    "sns.barplot(data=df_corr_exit,x=df_corr_exit.index,y='exited',palette=cols)"
   ]
  },
  {
   "cell_type": "code",
   "execution_count": 170,
   "id": "82dcca5b",
   "metadata": {
    "execution": {
     "iopub.execute_input": "2023-08-19T11:08:06.641242Z",
     "iopub.status.busy": "2023-08-19T11:08:06.640531Z",
     "iopub.status.idle": "2023-08-19T11:08:06.647904Z",
     "shell.execute_reply": "2023-08-19T11:08:06.646563Z"
    },
    "papermill": {
     "duration": 0.048629,
     "end_time": "2023-08-19T11:08:06.650460",
     "exception": false,
     "start_time": "2023-08-19T11:08:06.601831",
     "status": "completed"
    },
    "tags": []
   },
   "outputs": [],
   "source": [
    "x=churn_df.drop(['exited'],axis=1)\n",
    "y=churn_df['exited']"
   ]
  },
  {
   "cell_type": "code",
   "execution_count": 171,
   "id": "54b2d3d6",
   "metadata": {
    "execution": {
     "iopub.execute_input": "2023-08-19T11:08:06.726284Z",
     "iopub.status.busy": "2023-08-19T11:08:06.725882Z",
     "iopub.status.idle": "2023-08-19T11:08:06.880522Z",
     "shell.execute_reply": "2023-08-19T11:08:06.879073Z"
    },
    "papermill": {
     "duration": 0.195333,
     "end_time": "2023-08-19T11:08:06.883300",
     "exception": false,
     "start_time": "2023-08-19T11:08:06.687967",
     "status": "completed"
    },
    "tags": []
   },
   "outputs": [],
   "source": [
    "from sklearn.model_selection import train_test_split"
   ]
  },
  {
   "cell_type": "code",
   "execution_count": 172,
   "id": "6c129d7d",
   "metadata": {
    "execution": {
     "iopub.execute_input": "2023-08-19T11:08:06.959159Z",
     "iopub.status.busy": "2023-08-19T11:08:06.958695Z",
     "iopub.status.idle": "2023-08-19T11:08:06.967793Z",
     "shell.execute_reply": "2023-08-19T11:08:06.966469Z"
    },
    "papermill": {
     "duration": 0.050475,
     "end_time": "2023-08-19T11:08:06.970755",
     "exception": false,
     "start_time": "2023-08-19T11:08:06.920280",
     "status": "completed"
    },
    "tags": []
   },
   "outputs": [],
   "source": [
    "x_train,x_test,y_train,y_test=train_test_split(x,y,test_size=0.3,random_state=42)"
   ]
  },
  {
   "cell_type": "code",
   "execution_count": 173,
   "id": "8f2ff581",
   "metadata": {
    "execution": {
     "iopub.execute_input": "2023-08-19T11:08:07.047197Z",
     "iopub.status.busy": "2023-08-19T11:08:07.046800Z",
     "iopub.status.idle": "2023-08-19T11:08:07.054996Z",
     "shell.execute_reply": "2023-08-19T11:08:07.053822Z"
    },
    "papermill": {
     "duration": 0.050029,
     "end_time": "2023-08-19T11:08:07.057447",
     "exception": false,
     "start_time": "2023-08-19T11:08:07.007418",
     "status": "completed"
    },
    "tags": []
   },
   "outputs": [
    {
     "data": {
      "text/plain": [
       "((2851, 8), (1223, 8), (2851,), (1223,))"
      ]
     },
     "execution_count": 173,
     "metadata": {},
     "output_type": "execute_result"
    }
   ],
   "source": [
    "x_train.shape,x_test.shape,y_train.shape,y_test.shape"
   ]
  },
  {
   "cell_type": "code",
   "execution_count": 174,
   "id": "6ed35cd3",
   "metadata": {
    "execution": {
     "iopub.execute_input": "2023-08-19T11:08:07.133383Z",
     "iopub.status.busy": "2023-08-19T11:08:07.132975Z",
     "iopub.status.idle": "2023-08-19T11:08:07.253575Z",
     "shell.execute_reply": "2023-08-19T11:08:07.252360Z"
    },
    "papermill": {
     "duration": 0.161474,
     "end_time": "2023-08-19T11:08:07.256438",
     "exception": false,
     "start_time": "2023-08-19T11:08:07.094964",
     "status": "completed"
    },
    "tags": []
   },
   "outputs": [],
   "source": [
    "from sklearn.linear_model import LogisticRegression"
   ]
  },
  {
   "cell_type": "code",
   "execution_count": 175,
   "id": "d3f9027c",
   "metadata": {
    "execution": {
     "iopub.execute_input": "2023-08-19T11:08:07.331826Z",
     "iopub.status.busy": "2023-08-19T11:08:07.331360Z",
     "iopub.status.idle": "2023-08-19T11:08:07.337007Z",
     "shell.execute_reply": "2023-08-19T11:08:07.335812Z"
    },
    "papermill": {
     "duration": 0.046474,
     "end_time": "2023-08-19T11:08:07.339467",
     "exception": false,
     "start_time": "2023-08-19T11:08:07.292993",
     "status": "completed"
    },
    "tags": []
   },
   "outputs": [],
   "source": [
    "lr=LogisticRegression(max_iter=500)"
   ]
  },
  {
   "cell_type": "code",
   "execution_count": 176,
   "id": "003f1be1",
   "metadata": {
    "execution": {
     "iopub.execute_input": "2023-08-19T11:08:07.414176Z",
     "iopub.status.busy": "2023-08-19T11:08:07.413760Z",
     "iopub.status.idle": "2023-08-19T11:08:07.490613Z",
     "shell.execute_reply": "2023-08-19T11:08:07.489015Z"
    },
    "papermill": {
     "duration": 0.118923,
     "end_time": "2023-08-19T11:08:07.494754",
     "exception": false,
     "start_time": "2023-08-19T11:08:07.375831",
     "status": "completed"
    },
    "tags": []
   },
   "outputs": [
    {
     "data": {
      "text/html": [
       "<style>#sk-container-id-7 {color: black;}#sk-container-id-7 pre{padding: 0;}#sk-container-id-7 div.sk-toggleable {background-color: white;}#sk-container-id-7 label.sk-toggleable__label {cursor: pointer;display: block;width: 100%;margin-bottom: 0;padding: 0.3em;box-sizing: border-box;text-align: center;}#sk-container-id-7 label.sk-toggleable__label-arrow:before {content: \"▸\";float: left;margin-right: 0.25em;color: #696969;}#sk-container-id-7 label.sk-toggleable__label-arrow:hover:before {color: black;}#sk-container-id-7 div.sk-estimator:hover label.sk-toggleable__label-arrow:before {color: black;}#sk-container-id-7 div.sk-toggleable__content {max-height: 0;max-width: 0;overflow: hidden;text-align: left;background-color: #f0f8ff;}#sk-container-id-7 div.sk-toggleable__content pre {margin: 0.2em;color: black;border-radius: 0.25em;background-color: #f0f8ff;}#sk-container-id-7 input.sk-toggleable__control:checked~div.sk-toggleable__content {max-height: 200px;max-width: 100%;overflow: auto;}#sk-container-id-7 input.sk-toggleable__control:checked~label.sk-toggleable__label-arrow:before {content: \"▾\";}#sk-container-id-7 div.sk-estimator input.sk-toggleable__control:checked~label.sk-toggleable__label {background-color: #d4ebff;}#sk-container-id-7 div.sk-label input.sk-toggleable__control:checked~label.sk-toggleable__label {background-color: #d4ebff;}#sk-container-id-7 input.sk-hidden--visually {border: 0;clip: rect(1px 1px 1px 1px);clip: rect(1px, 1px, 1px, 1px);height: 1px;margin: -1px;overflow: hidden;padding: 0;position: absolute;width: 1px;}#sk-container-id-7 div.sk-estimator {font-family: monospace;background-color: #f0f8ff;border: 1px dotted black;border-radius: 0.25em;box-sizing: border-box;margin-bottom: 0.5em;}#sk-container-id-7 div.sk-estimator:hover {background-color: #d4ebff;}#sk-container-id-7 div.sk-parallel-item::after {content: \"\";width: 100%;border-bottom: 1px solid gray;flex-grow: 1;}#sk-container-id-7 div.sk-label:hover label.sk-toggleable__label {background-color: #d4ebff;}#sk-container-id-7 div.sk-serial::before {content: \"\";position: absolute;border-left: 1px solid gray;box-sizing: border-box;top: 0;bottom: 0;left: 50%;z-index: 0;}#sk-container-id-7 div.sk-serial {display: flex;flex-direction: column;align-items: center;background-color: white;padding-right: 0.2em;padding-left: 0.2em;position: relative;}#sk-container-id-7 div.sk-item {position: relative;z-index: 1;}#sk-container-id-7 div.sk-parallel {display: flex;align-items: stretch;justify-content: center;background-color: white;position: relative;}#sk-container-id-7 div.sk-item::before, #sk-container-id-7 div.sk-parallel-item::before {content: \"\";position: absolute;border-left: 1px solid gray;box-sizing: border-box;top: 0;bottom: 0;left: 50%;z-index: -1;}#sk-container-id-7 div.sk-parallel-item {display: flex;flex-direction: column;z-index: 1;position: relative;background-color: white;}#sk-container-id-7 div.sk-parallel-item:first-child::after {align-self: flex-end;width: 50%;}#sk-container-id-7 div.sk-parallel-item:last-child::after {align-self: flex-start;width: 50%;}#sk-container-id-7 div.sk-parallel-item:only-child::after {width: 0;}#sk-container-id-7 div.sk-dashed-wrapped {border: 1px dashed gray;margin: 0 0.4em 0.5em 0.4em;box-sizing: border-box;padding-bottom: 0.4em;background-color: white;}#sk-container-id-7 div.sk-label label {font-family: monospace;font-weight: bold;display: inline-block;line-height: 1.2em;}#sk-container-id-7 div.sk-label-container {text-align: center;}#sk-container-id-7 div.sk-container {/* jupyter's `normalize.less` sets `[hidden] { display: none; }` but bootstrap.min.css set `[hidden] { display: none !important; }` so we also need the `!important` here to be able to override the default hidden behavior on the sphinx rendered scikit-learn.org. See: https://github.com/scikit-learn/scikit-learn/issues/21755 */display: inline-block !important;position: relative;}#sk-container-id-7 div.sk-text-repr-fallback {display: none;}</style><div id=\"sk-container-id-7\" class=\"sk-top-container\"><div class=\"sk-text-repr-fallback\"><pre>LogisticRegression(max_iter=500)</pre><b>In a Jupyter environment, please rerun this cell to show the HTML representation or trust the notebook. <br />On GitHub, the HTML representation is unable to render, please try loading this page with nbviewer.org.</b></div><div class=\"sk-container\" hidden><div class=\"sk-item\"><div class=\"sk-estimator sk-toggleable\"><input class=\"sk-toggleable__control sk-hidden--visually\" id=\"sk-estimator-id-7\" type=\"checkbox\" checked><label for=\"sk-estimator-id-7\" class=\"sk-toggleable__label sk-toggleable__label-arrow\">LogisticRegression</label><div class=\"sk-toggleable__content\"><pre>LogisticRegression(max_iter=500)</pre></div></div></div></div></div>"
      ],
      "text/plain": [
       "LogisticRegression(max_iter=500)"
      ]
     },
     "execution_count": 176,
     "metadata": {},
     "output_type": "execute_result"
    }
   ],
   "source": [
    "lr.fit(x_train,y_train)"
   ]
  },
  {
   "cell_type": "code",
   "execution_count": 177,
   "id": "27733148",
   "metadata": {
    "execution": {
     "iopub.execute_input": "2023-08-19T11:08:07.625370Z",
     "iopub.status.busy": "2023-08-19T11:08:07.624971Z",
     "iopub.status.idle": "2023-08-19T11:08:07.641801Z",
     "shell.execute_reply": "2023-08-19T11:08:07.640455Z"
    },
    "papermill": {
     "duration": 0.068199,
     "end_time": "2023-08-19T11:08:07.645768",
     "exception": false,
     "start_time": "2023-08-19T11:08:07.577569",
     "status": "completed"
    },
    "tags": []
   },
   "outputs": [
    {
     "data": {
      "text/plain": [
       "0.663626797614872"
      ]
     },
     "execution_count": 177,
     "metadata": {},
     "output_type": "execute_result"
    }
   ],
   "source": [
    "lr.score(x_train,y_train)"
   ]
  },
  {
   "cell_type": "code",
   "execution_count": 178,
   "id": "d90633db",
   "metadata": {
    "execution": {
     "iopub.execute_input": "2023-08-19T11:08:07.780435Z",
     "iopub.status.busy": "2023-08-19T11:08:07.780021Z",
     "iopub.status.idle": "2023-08-19T11:08:07.799471Z",
     "shell.execute_reply": "2023-08-19T11:08:07.797924Z"
    },
    "papermill": {
     "duration": 0.077174,
     "end_time": "2023-08-19T11:08:07.803690",
     "exception": false,
     "start_time": "2023-08-19T11:08:07.726516",
     "status": "completed"
    },
    "tags": []
   },
   "outputs": [
    {
     "data": {
      "text/plain": [
       "0.6524938675388389"
      ]
     },
     "execution_count": 178,
     "metadata": {},
     "output_type": "execute_result"
    }
   ],
   "source": [
    "lr.score(x_test,y_test)"
   ]
  },
  {
   "cell_type": "code",
   "execution_count": 179,
   "id": "eb0904ae",
   "metadata": {
    "execution": {
     "iopub.execute_input": "2023-08-19T11:08:07.937776Z",
     "iopub.status.busy": "2023-08-19T11:08:07.937349Z",
     "iopub.status.idle": "2023-08-19T11:08:07.946647Z",
     "shell.execute_reply": "2023-08-19T11:08:07.945038Z"
    },
    "papermill": {
     "duration": 0.065632,
     "end_time": "2023-08-19T11:08:07.950697",
     "exception": false,
     "start_time": "2023-08-19T11:08:07.885065",
     "status": "completed"
    },
    "tags": []
   },
   "outputs": [],
   "source": [
    "y_pred=lr.predict(x_test)"
   ]
  },
  {
   "cell_type": "code",
   "execution_count": 180,
   "id": "d32047f0",
   "metadata": {
    "execution": {
     "iopub.execute_input": "2023-08-19T11:08:08.089549Z",
     "iopub.status.busy": "2023-08-19T11:08:08.089068Z",
     "iopub.status.idle": "2023-08-19T11:08:08.094763Z",
     "shell.execute_reply": "2023-08-19T11:08:08.093585Z"
    },
    "papermill": {
     "duration": 0.06497,
     "end_time": "2023-08-19T11:08:08.096989",
     "exception": false,
     "start_time": "2023-08-19T11:08:08.032019",
     "status": "completed"
    },
    "tags": []
   },
   "outputs": [],
   "source": [
    "from sklearn.metrics import confusion_matrix,recall_score,precision_score,accuracy_score,f1_score,ConfusionMatrixDisplay"
   ]
  },
  {
   "cell_type": "code",
   "execution_count": 181,
   "id": "386e5d0b",
   "metadata": {
    "execution": {
     "iopub.execute_input": "2023-08-19T11:08:08.174022Z",
     "iopub.status.busy": "2023-08-19T11:08:08.173619Z",
     "iopub.status.idle": "2023-08-19T11:08:08.185681Z",
     "shell.execute_reply": "2023-08-19T11:08:08.184436Z"
    },
    "papermill": {
     "duration": 0.05372,
     "end_time": "2023-08-19T11:08:08.188282",
     "exception": false,
     "start_time": "2023-08-19T11:08:08.134562",
     "status": "completed"
    },
    "tags": []
   },
   "outputs": [
    {
     "data": {
      "text/plain": [
       "0.6200607902735562"
      ]
     },
     "execution_count": 181,
     "metadata": {},
     "output_type": "execute_result"
    }
   ],
   "source": [
    "precision_score(y_test,y_pred)"
   ]
  },
  {
   "cell_type": "code",
   "execution_count": 182,
   "id": "ebfc8447",
   "metadata": {
    "execution": {
     "iopub.execute_input": "2023-08-19T11:08:08.266707Z",
     "iopub.status.busy": "2023-08-19T11:08:08.265826Z",
     "iopub.status.idle": "2023-08-19T11:08:08.275803Z",
     "shell.execute_reply": "2023-08-19T11:08:08.274555Z"
    },
    "papermill": {
     "duration": 0.052239,
     "end_time": "2023-08-19T11:08:08.278686",
     "exception": false,
     "start_time": "2023-08-19T11:08:08.226447",
     "status": "completed"
    },
    "tags": []
   },
   "outputs": [
    {
     "data": {
      "text/plain": [
       "0.6998284734133791"
      ]
     },
     "execution_count": 182,
     "metadata": {},
     "output_type": "execute_result"
    }
   ],
   "source": [
    "recall_score(y_test,y_pred)"
   ]
  },
  {
   "cell_type": "code",
   "execution_count": 183,
   "id": "316cd103",
   "metadata": {
    "execution": {
     "iopub.execute_input": "2023-08-19T11:08:08.357444Z",
     "iopub.status.busy": "2023-08-19T11:08:08.356621Z",
     "iopub.status.idle": "2023-08-19T11:08:08.365239Z",
     "shell.execute_reply": "2023-08-19T11:08:08.364203Z"
    },
    "papermill": {
     "duration": 0.05074,
     "end_time": "2023-08-19T11:08:08.367616",
     "exception": false,
     "start_time": "2023-08-19T11:08:08.316876",
     "status": "completed"
    },
    "tags": []
   },
   "outputs": [
    {
     "data": {
      "text/plain": [
       "0.6524938675388389"
      ]
     },
     "execution_count": 183,
     "metadata": {},
     "output_type": "execute_result"
    }
   ],
   "source": [
    "accuracy_score(y_test,y_pred)"
   ]
  },
  {
   "cell_type": "code",
   "execution_count": 184,
   "id": "0bc988ab",
   "metadata": {
    "execution": {
     "iopub.execute_input": "2023-08-19T11:08:08.447217Z",
     "iopub.status.busy": "2023-08-19T11:08:08.445949Z",
     "iopub.status.idle": "2023-08-19T11:08:08.457384Z",
     "shell.execute_reply": "2023-08-19T11:08:08.456078Z"
    },
    "papermill": {
     "duration": 0.054274,
     "end_time": "2023-08-19T11:08:08.460163",
     "exception": false,
     "start_time": "2023-08-19T11:08:08.405889",
     "status": "completed"
    },
    "tags": []
   },
   "outputs": [
    {
     "data": {
      "text/plain": [
       "0.6575342465753424"
      ]
     },
     "execution_count": 184,
     "metadata": {},
     "output_type": "execute_result"
    }
   ],
   "source": [
    "f1_score(y_test,y_pred)"
   ]
  },
  {
   "cell_type": "code",
   "execution_count": 185,
   "id": "212051f8",
   "metadata": {
    "execution": {
     "iopub.execute_input": "2023-08-19T11:08:08.539890Z",
     "iopub.status.busy": "2023-08-19T11:08:08.539446Z",
     "iopub.status.idle": "2023-08-19T11:08:08.865677Z",
     "shell.execute_reply": "2023-08-19T11:08:08.864527Z"
    },
    "papermill": {
     "duration": 0.368324,
     "end_time": "2023-08-19T11:08:08.868214",
     "exception": false,
     "start_time": "2023-08-19T11:08:08.499890",
     "status": "completed"
    },
    "tags": []
   },
   "outputs": [
    {
     "data": {
      "text/plain": [
       "<sklearn.metrics._plot.confusion_matrix.ConfusionMatrixDisplay at 0x26f4d7dcca0>"
      ]
     },
     "execution_count": 185,
     "metadata": {},
     "output_type": "execute_result"
    },
    {
     "data": {
      "image/png": "[encoded data removed]",
      "text/plain": [
       "<Figure size 432x288 with 2 Axes>"
      ]
     },
     "metadata": {
      "needs_background": "light"
     },
     "output_type": "display_data"
    }
   ],
   "source": [
    "cmd=ConfusionMatrixDisplay(confusion_matrix=confusion_matrix(y_test,y_pred,labels=lr.classes_),display_labels=lr.classes_)\n",
    "cmd.plot()"
   ]
  },
  {
   "cell_type": "code",
   "execution_count": 186,
   "id": "e586f491",
   "metadata": {
    "execution": {
     "iopub.execute_input": "2023-08-19T11:08:08.948061Z",
     "iopub.status.busy": "2023-08-19T11:08:08.947554Z",
     "iopub.status.idle": "2023-08-19T11:08:08.953556Z",
     "shell.execute_reply": "2023-08-19T11:08:08.952301Z"
    },
    "papermill": {
     "duration": 0.048981,
     "end_time": "2023-08-19T11:08:08.956069",
     "exception": false,
     "start_time": "2023-08-19T11:08:08.907088",
     "status": "completed"
    },
    "tags": []
   },
   "outputs": [],
   "source": [
    "from sklearn.linear_model import LogisticRegressionCV"
   ]
  },
  {
   "cell_type": "code",
   "execution_count": 187,
   "id": "32cab7cf",
   "metadata": {
    "execution": {
     "iopub.execute_input": "2023-08-19T11:08:09.035600Z",
     "iopub.status.busy": "2023-08-19T11:08:09.035167Z",
     "iopub.status.idle": "2023-08-19T11:08:09.041936Z",
     "shell.execute_reply": "2023-08-19T11:08:09.040412Z"
    },
    "papermill": {
     "duration": 0.049265,
     "end_time": "2023-08-19T11:08:09.044568",
     "exception": false,
     "start_time": "2023-08-19T11:08:08.995303",
     "status": "completed"
    },
    "tags": []
   },
   "outputs": [],
   "source": [
    "lr=LogisticRegressionCV(max_iter=500,solver='liblinear',penalty='l1',cv=3,Cs=10)"
   ]
  },
  {
   "cell_type": "code",
   "execution_count": 188,
   "id": "2118d68e",
   "metadata": {
    "execution": {
     "iopub.execute_input": "2023-08-19T11:08:09.125665Z",
     "iopub.status.busy": "2023-08-19T11:08:09.125201Z",
     "iopub.status.idle": "2023-08-19T11:08:09.786936Z",
     "shell.execute_reply": "2023-08-19T11:08:09.785718Z"
    },
    "papermill": {
     "duration": 0.705503,
     "end_time": "2023-08-19T11:08:09.789468",
     "exception": false,
     "start_time": "2023-08-19T11:08:09.083965",
     "status": "completed"
    },
    "tags": []
   },
   "outputs": [
    {
     "data": {
      "text/html": [
       "<style>#sk-container-id-8 {color: black;}#sk-container-id-8 pre{padding: 0;}#sk-container-id-8 div.sk-toggleable {background-color: white;}#sk-container-id-8 label.sk-toggleable__label {cursor: pointer;display: block;width: 100%;margin-bottom: 0;padding: 0.3em;box-sizing: border-box;text-align: center;}#sk-container-id-8 label.sk-toggleable__label-arrow:before {content: \"▸\";float: left;margin-right: 0.25em;color: #696969;}#sk-container-id-8 label.sk-toggleable__label-arrow:hover:before {color: black;}#sk-container-id-8 div.sk-estimator:hover label.sk-toggleable__label-arrow:before {color: black;}#sk-container-id-8 div.sk-toggleable__content {max-height: 0;max-width: 0;overflow: hidden;text-align: left;background-color: #f0f8ff;}#sk-container-id-8 div.sk-toggleable__content pre {margin: 0.2em;color: black;border-radius: 0.25em;background-color: #f0f8ff;}#sk-container-id-8 input.sk-toggleable__control:checked~div.sk-toggleable__content {max-height: 200px;max-width: 100%;overflow: auto;}#sk-container-id-8 input.sk-toggleable__control:checked~label.sk-toggleable__label-arrow:before {content: \"▾\";}#sk-container-id-8 div.sk-estimator input.sk-toggleable__control:checked~label.sk-toggleable__label {background-color: #d4ebff;}#sk-container-id-8 div.sk-label input.sk-toggleable__control:checked~label.sk-toggleable__label {background-color: #d4ebff;}#sk-container-id-8 input.sk-hidden--visually {border: 0;clip: rect(1px 1px 1px 1px);clip: rect(1px, 1px, 1px, 1px);height: 1px;margin: -1px;overflow: hidden;padding: 0;position: absolute;width: 1px;}#sk-container-id-8 div.sk-estimator {font-family: monospace;background-color: #f0f8ff;border: 1px dotted black;border-radius: 0.25em;box-sizing: border-box;margin-bottom: 0.5em;}#sk-container-id-8 div.sk-estimator:hover {background-color: #d4ebff;}#sk-container-id-8 div.sk-parallel-item::after {content: \"\";width: 100%;border-bottom: 1px solid gray;flex-grow: 1;}#sk-container-id-8 div.sk-label:hover label.sk-toggleable__label {background-color: #d4ebff;}#sk-container-id-8 div.sk-serial::before {content: \"\";position: absolute;border-left: 1px solid gray;box-sizing: border-box;top: 0;bottom: 0;left: 50%;z-index: 0;}#sk-container-id-8 div.sk-serial {display: flex;flex-direction: column;align-items: center;background-color: white;padding-right: 0.2em;padding-left: 0.2em;position: relative;}#sk-container-id-8 div.sk-item {position: relative;z-index: 1;}#sk-container-id-8 div.sk-parallel {display: flex;align-items: stretch;justify-content: center;background-color: white;position: relative;}#sk-container-id-8 div.sk-item::before, #sk-container-id-8 div.sk-parallel-item::before {content: \"\";position: absolute;border-left: 1px solid gray;box-sizing: border-box;top: 0;bottom: 0;left: 50%;z-index: -1;}#sk-container-id-8 div.sk-parallel-item {display: flex;flex-direction: column;z-index: 1;position: relative;background-color: white;}#sk-container-id-8 div.sk-parallel-item:first-child::after {align-self: flex-end;width: 50%;}#sk-container-id-8 div.sk-parallel-item:last-child::after {align-self: flex-start;width: 50%;}#sk-container-id-8 div.sk-parallel-item:only-child::after {width: 0;}#sk-container-id-8 div.sk-dashed-wrapped {border: 1px dashed gray;margin: 0 0.4em 0.5em 0.4em;box-sizing: border-box;padding-bottom: 0.4em;background-color: white;}#sk-container-id-8 div.sk-label label {font-family: monospace;font-weight: bold;display: inline-block;line-height: 1.2em;}#sk-container-id-8 div.sk-label-container {text-align: center;}#sk-container-id-8 div.sk-container {/* jupyter's `normalize.less` sets `[hidden] { display: none; }` but bootstrap.min.css set `[hidden] { display: none !important; }` so we also need the `!important` here to be able to override the default hidden behavior on the sphinx rendered scikit-learn.org. See: https://github.com/scikit-learn/scikit-learn/issues/21755 */display: inline-block !important;position: relative;}#sk-container-id-8 div.sk-text-repr-fallback {display: none;}</style><div id=\"sk-container-id-8\" class=\"sk-top-container\"><div class=\"sk-text-repr-fallback\"><pre>LogisticRegressionCV(cv=3, max_iter=500, penalty=&#x27;l1&#x27;, solver=&#x27;liblinear&#x27;)</pre><b>In a Jupyter environment, please rerun this cell to show the HTML representation or trust the notebook. <br />On GitHub, the HTML representation is unable to render, please try loading this page with nbviewer.org.</b></div><div class=\"sk-container\" hidden><div class=\"sk-item\"><div class=\"sk-estimator sk-toggleable\"><input class=\"sk-toggleable__control sk-hidden--visually\" id=\"sk-estimator-id-8\" type=\"checkbox\" checked><label for=\"sk-estimator-id-8\" class=\"sk-toggleable__label sk-toggleable__label-arrow\">LogisticRegressionCV</label><div class=\"sk-toggleable__content\"><pre>LogisticRegressionCV(cv=3, max_iter=500, penalty=&#x27;l1&#x27;, solver=&#x27;liblinear&#x27;)</pre></div></div></div></div></div>"
      ],
      "text/plain": [
       "LogisticRegressionCV(cv=3, max_iter=500, penalty='l1', solver='liblinear')"
      ]
     },
     "execution_count": 188,
     "metadata": {},
     "output_type": "execute_result"
    }
   ],
   "source": [
    "lr.fit(x_train,y_train)"
   ]
  },
  {
   "cell_type": "code",
   "execution_count": 189,
   "id": "2c099151",
   "metadata": {
    "execution": {
     "iopub.execute_input": "2023-08-19T11:08:09.869588Z",
     "iopub.status.busy": "2023-08-19T11:08:09.868268Z",
     "iopub.status.idle": "2023-08-19T11:08:09.885270Z",
     "shell.execute_reply": "2023-08-19T11:08:09.883767Z"
    },
    "papermill": {
     "duration": 0.061183,
     "end_time": "2023-08-19T11:08:09.889424",
     "exception": false,
     "start_time": "2023-08-19T11:08:09.828241",
     "status": "completed"
    },
    "tags": []
   },
   "outputs": [
    {
     "data": {
      "text/plain": [
       "0.6815152578042792"
      ]
     },
     "execution_count": 189,
     "metadata": {},
     "output_type": "execute_result"
    }
   ],
   "source": [
    "lr.score(x_train,y_train)"
   ]
  },
  {
   "cell_type": "code",
   "execution_count": 190,
   "id": "4717c7b9",
   "metadata": {
    "execution": {
     "iopub.execute_input": "2023-08-19T11:08:10.026768Z",
     "iopub.status.busy": "2023-08-19T11:08:10.026311Z",
     "iopub.status.idle": "2023-08-19T11:08:10.040846Z",
     "shell.execute_reply": "2023-08-19T11:08:10.039379Z"
    },
    "papermill": {
     "duration": 0.071432,
     "end_time": "2023-08-19T11:08:10.045299",
     "exception": false,
     "start_time": "2023-08-19T11:08:09.973867",
     "status": "completed"
    },
    "tags": []
   },
   "outputs": [
    {
     "data": {
      "text/plain": [
       "0.7023712183156173"
      ]
     },
     "execution_count": 190,
     "metadata": {},
     "output_type": "execute_result"
    }
   ],
   "source": [
    "lr.score(x_test,y_test)"
   ]
  },
  {
   "cell_type": "code",
   "execution_count": 191,
   "id": "0b751121",
   "metadata": {
    "execution": {
     "iopub.execute_input": "2023-08-19T11:08:10.185049Z",
     "iopub.status.busy": "2023-08-19T11:08:10.184601Z",
     "iopub.status.idle": "2023-08-19T11:08:10.193201Z",
     "shell.execute_reply": "2023-08-19T11:08:10.191926Z"
    },
    "papermill": {
     "duration": 0.066177,
     "end_time": "2023-08-19T11:08:10.197398",
     "exception": false,
     "start_time": "2023-08-19T11:08:10.131221",
     "status": "completed"
    },
    "tags": []
   },
   "outputs": [],
   "source": [
    "y_pred=lr.predict(x_test)"
   ]
  },
  {
   "cell_type": "code",
   "execution_count": 192,
   "id": "c081ce89",
   "metadata": {
    "execution": {
     "iopub.execute_input": "2023-08-19T11:08:10.338697Z",
     "iopub.status.busy": "2023-08-19T11:08:10.338254Z",
     "iopub.status.idle": "2023-08-19T11:08:10.349515Z",
     "shell.execute_reply": "2023-08-19T11:08:10.348408Z"
    },
    "papermill": {
     "duration": 0.06844,
     "end_time": "2023-08-19T11:08:10.351787",
     "exception": false,
     "start_time": "2023-08-19T11:08:10.283347",
     "status": "completed"
    },
    "tags": []
   },
   "outputs": [
    {
     "data": {
      "text/plain": [
       "0.6798029556650246"
      ]
     },
     "execution_count": 192,
     "metadata": {},
     "output_type": "execute_result"
    }
   ],
   "source": [
    "precision_score(y_test,y_pred)"
   ]
  },
  {
   "cell_type": "code",
   "execution_count": 193,
   "id": "acf54f92",
   "metadata": {
    "execution": {
     "iopub.execute_input": "2023-08-19T11:08:10.433628Z",
     "iopub.status.busy": "2023-08-19T11:08:10.433172Z",
     "iopub.status.idle": "2023-08-19T11:08:10.445338Z",
     "shell.execute_reply": "2023-08-19T11:08:10.444251Z"
    },
    "papermill": {
     "duration": 0.055198,
     "end_time": "2023-08-19T11:08:10.447863",
     "exception": false,
     "start_time": "2023-08-19T11:08:10.392665",
     "status": "completed"
    },
    "tags": []
   },
   "outputs": [
    {
     "data": {
      "text/plain": [
       "0.7101200686106347"
      ]
     },
     "execution_count": 193,
     "metadata": {},
     "output_type": "execute_result"
    }
   ],
   "source": [
    "recall_score(y_test,y_pred)"
   ]
  },
  {
   "cell_type": "code",
   "execution_count": 194,
   "id": "5e55e3ca",
   "metadata": {
    "execution": {
     "iopub.execute_input": "2023-08-19T11:08:10.533516Z",
     "iopub.status.busy": "2023-08-19T11:08:10.533070Z",
     "iopub.status.idle": "2023-08-19T11:08:10.542200Z",
     "shell.execute_reply": "2023-08-19T11:08:10.541022Z"
    },
    "papermill": {
     "duration": 0.053251,
     "end_time": "2023-08-19T11:08:10.544669",
     "exception": false,
     "start_time": "2023-08-19T11:08:10.491418",
     "status": "completed"
    },
    "tags": []
   },
   "outputs": [
    {
     "data": {
      "text/plain": [
       "0.7023712183156173"
      ]
     },
     "execution_count": 194,
     "metadata": {},
     "output_type": "execute_result"
    }
   ],
   "source": [
    "accuracy_score(y_test,y_pred)"
   ]
  },
  {
   "cell_type": "code",
   "execution_count": 195,
   "id": "f1d349bb",
   "metadata": {
    "execution": {
     "iopub.execute_input": "2023-08-19T11:08:10.627849Z",
     "iopub.status.busy": "2023-08-19T11:08:10.627383Z",
     "iopub.status.idle": "2023-08-19T11:08:10.638661Z",
     "shell.execute_reply": "2023-08-19T11:08:10.637410Z"
    },
    "papermill": {
     "duration": 0.05664,
     "end_time": "2023-08-19T11:08:10.640969",
     "exception": false,
     "start_time": "2023-08-19T11:08:10.584329",
     "status": "completed"
    },
    "tags": []
   },
   "outputs": [
    {
     "data": {
      "text/plain": [
       "0.6946308724832215"
      ]
     },
     "execution_count": 195,
     "metadata": {},
     "output_type": "execute_result"
    }
   ],
   "source": [
    "f1_score(y_test,y_pred)"
   ]
  },
  {
   "cell_type": "code",
   "execution_count": 196,
   "id": "7a0ffb04",
   "metadata": {
    "execution": {
     "iopub.execute_input": "2023-08-19T11:08:10.725772Z",
     "iopub.status.busy": "2023-08-19T11:08:10.724649Z",
     "iopub.status.idle": "2023-08-19T11:08:11.046255Z",
     "shell.execute_reply": "2023-08-19T11:08:11.044532Z"
    },
    "papermill": {
     "duration": 0.367434,
     "end_time": "2023-08-19T11:08:11.049670",
     "exception": false,
     "start_time": "2023-08-19T11:08:10.682236",
     "status": "completed"
    },
    "tags": []
   },
   "outputs": [
    {
     "data": {
      "text/plain": [
       "<sklearn.metrics._plot.confusion_matrix.ConfusionMatrixDisplay at 0x26f4d87a250>"
      ]
     },
     "execution_count": 196,
     "metadata": {},
     "output_type": "execute_result"
    },
    {
     "data": {
      "image/png": "[encoded data removed]",
      "text/plain": [
       "<Figure size 432x288 with 2 Axes>"
      ]
     },
     "metadata": {
      "needs_background": "light"
     },
     "output_type": "display_data"
    }
   ],
   "source": [
    "cmd=ConfusionMatrixDisplay(confusion_matrix=confusion_matrix(y_test,y_pred,labels=lr.classes_),display_labels=lr.classes_)\n",
    "cmd.plot()"
   ]
  },
  {
   "cell_type": "code",
   "execution_count": 197,
   "id": "18ed567e",
   "metadata": {
    "execution": {
     "iopub.execute_input": "2023-08-19T11:08:11.137677Z",
     "iopub.status.busy": "2023-08-19T11:08:11.136473Z",
     "iopub.status.idle": "2023-08-19T11:08:11.142945Z",
     "shell.execute_reply": "2023-08-19T11:08:11.141873Z"
    },
    "papermill": {
     "duration": 0.052954,
     "end_time": "2023-08-19T11:08:11.145355",
     "exception": false,
     "start_time": "2023-08-19T11:08:11.092401",
     "status": "completed"
    },
    "tags": []
   },
   "outputs": [],
   "source": [
    "lr=LogisticRegressionCV(max_iter=500,solver='liblinear',penalty='l2',cv=4,Cs=10)"
   ]
  },
  {
   "cell_type": "code",
   "execution_count": 198,
   "id": "5b9c0c01",
   "metadata": {
    "execution": {
     "iopub.execute_input": "2023-08-19T11:08:11.228192Z",
     "iopub.status.busy": "2023-08-19T11:08:11.227758Z",
     "iopub.status.idle": "2023-08-19T11:08:11.776479Z",
     "shell.execute_reply": "2023-08-19T11:08:11.775260Z"
    },
    "papermill": {
     "duration": 0.59364,
     "end_time": "2023-08-19T11:08:11.779452",
     "exception": false,
     "start_time": "2023-08-19T11:08:11.185812",
     "status": "completed"
    },
    "tags": []
   },
   "outputs": [
    {
     "data": {
      "text/html": [
       "<style>#sk-container-id-9 {color: black;}#sk-container-id-9 pre{padding: 0;}#sk-container-id-9 div.sk-toggleable {background-color: white;}#sk-container-id-9 label.sk-toggleable__label {cursor: pointer;display: block;width: 100%;margin-bottom: 0;padding: 0.3em;box-sizing: border-box;text-align: center;}#sk-container-id-9 label.sk-toggleable__label-arrow:before {content: \"▸\";float: left;margin-right: 0.25em;color: #696969;}#sk-container-id-9 label.sk-toggleable__label-arrow:hover:before {color: black;}#sk-container-id-9 div.sk-estimator:hover label.sk-toggleable__label-arrow:before {color: black;}#sk-container-id-9 div.sk-toggleable__content {max-height: 0;max-width: 0;overflow: hidden;text-align: left;background-color: #f0f8ff;}#sk-container-id-9 div.sk-toggleable__content pre {margin: 0.2em;color: black;border-radius: 0.25em;background-color: #f0f8ff;}#sk-container-id-9 input.sk-toggleable__control:checked~div.sk-toggleable__content {max-height: 200px;max-width: 100%;overflow: auto;}#sk-container-id-9 input.sk-toggleable__control:checked~label.sk-toggleable__label-arrow:before {content: \"▾\";}#sk-container-id-9 div.sk-estimator input.sk-toggleable__control:checked~label.sk-toggleable__label {background-color: #d4ebff;}#sk-container-id-9 div.sk-label input.sk-toggleable__control:checked~label.sk-toggleable__label {background-color: #d4ebff;}#sk-container-id-9 input.sk-hidden--visually {border: 0;clip: rect(1px 1px 1px 1px);clip: rect(1px, 1px, 1px, 1px);height: 1px;margin: -1px;overflow: hidden;padding: 0;position: absolute;width: 1px;}#sk-container-id-9 div.sk-estimator {font-family: monospace;background-color: #f0f8ff;border: 1px dotted black;border-radius: 0.25em;box-sizing: border-box;margin-bottom: 0.5em;}#sk-container-id-9 div.sk-estimator:hover {background-color: #d4ebff;}#sk-container-id-9 div.sk-parallel-item::after {content: \"\";width: 100%;border-bottom: 1px solid gray;flex-grow: 1;}#sk-container-id-9 div.sk-label:hover label.sk-toggleable__label {background-color: #d4ebff;}#sk-container-id-9 div.sk-serial::before {content: \"\";position: absolute;border-left: 1px solid gray;box-sizing: border-box;top: 0;bottom: 0;left: 50%;z-index: 0;}#sk-container-id-9 div.sk-serial {display: flex;flex-direction: column;align-items: center;background-color: white;padding-right: 0.2em;padding-left: 0.2em;position: relative;}#sk-container-id-9 div.sk-item {position: relative;z-index: 1;}#sk-container-id-9 div.sk-parallel {display: flex;align-items: stretch;justify-content: center;background-color: white;position: relative;}#sk-container-id-9 div.sk-item::before, #sk-container-id-9 div.sk-parallel-item::before {content: \"\";position: absolute;border-left: 1px solid gray;box-sizing: border-box;top: 0;bottom: 0;left: 50%;z-index: -1;}#sk-container-id-9 div.sk-parallel-item {display: flex;flex-direction: column;z-index: 1;position: relative;background-color: white;}#sk-container-id-9 div.sk-parallel-item:first-child::after {align-self: flex-end;width: 50%;}#sk-container-id-9 div.sk-parallel-item:last-child::after {align-self: flex-start;width: 50%;}#sk-container-id-9 div.sk-parallel-item:only-child::after {width: 0;}#sk-container-id-9 div.sk-dashed-wrapped {border: 1px dashed gray;margin: 0 0.4em 0.5em 0.4em;box-sizing: border-box;padding-bottom: 0.4em;background-color: white;}#sk-container-id-9 div.sk-label label {font-family: monospace;font-weight: bold;display: inline-block;line-height: 1.2em;}#sk-container-id-9 div.sk-label-container {text-align: center;}#sk-container-id-9 div.sk-container {/* jupyter's `normalize.less` sets `[hidden] { display: none; }` but bootstrap.min.css set `[hidden] { display: none !important; }` so we also need the `!important` here to be able to override the default hidden behavior on the sphinx rendered scikit-learn.org. See: https://github.com/scikit-learn/scikit-learn/issues/21755 */display: inline-block !important;position: relative;}#sk-container-id-9 div.sk-text-repr-fallback {display: none;}</style><div id=\"sk-container-id-9\" class=\"sk-top-container\"><div class=\"sk-text-repr-fallback\"><pre>LogisticRegressionCV(cv=4, max_iter=500, solver=&#x27;liblinear&#x27;)</pre><b>In a Jupyter environment, please rerun this cell to show the HTML representation or trust the notebook. <br />On GitHub, the HTML representation is unable to render, please try loading this page with nbviewer.org.</b></div><div class=\"sk-container\" hidden><div class=\"sk-item\"><div class=\"sk-estimator sk-toggleable\"><input class=\"sk-toggleable__control sk-hidden--visually\" id=\"sk-estimator-id-9\" type=\"checkbox\" checked><label for=\"sk-estimator-id-9\" class=\"sk-toggleable__label sk-toggleable__label-arrow\">LogisticRegressionCV</label><div class=\"sk-toggleable__content\"><pre>LogisticRegressionCV(cv=4, max_iter=500, solver=&#x27;liblinear&#x27;)</pre></div></div></div></div></div>"
      ],
      "text/plain": [
       "LogisticRegressionCV(cv=4, max_iter=500, solver='liblinear')"
      ]
     },
     "execution_count": 198,
     "metadata": {},
     "output_type": "execute_result"
    }
   ],
   "source": [
    "lr.fit(x_train,y_train)"
   ]
  },
  {
   "cell_type": "code",
   "execution_count": 199,
   "id": "f954fac1",
   "metadata": {
    "execution": {
     "iopub.execute_input": "2023-08-19T11:08:11.866589Z",
     "iopub.status.busy": "2023-08-19T11:08:11.865708Z",
     "iopub.status.idle": "2023-08-19T11:08:11.883598Z",
     "shell.execute_reply": "2023-08-19T11:08:11.881973Z"
    },
    "papermill": {
     "duration": 0.065465,
     "end_time": "2023-08-19T11:08:11.887852",
     "exception": false,
     "start_time": "2023-08-19T11:08:11.822387",
     "status": "completed"
    },
    "tags": []
   },
   "outputs": [
    {
     "data": {
      "text/plain": [
       "0.6639775517362329"
      ]
     },
     "execution_count": 199,
     "metadata": {},
     "output_type": "execute_result"
    }
   ],
   "source": [
    "lr.score(x_train,y_train)"
   ]
  },
  {
   "cell_type": "code",
   "execution_count": 200,
   "id": "4b318c08",
   "metadata": {
    "execution": {
     "iopub.execute_input": "2023-08-19T11:08:12.029051Z",
     "iopub.status.busy": "2023-08-19T11:08:12.028621Z",
     "iopub.status.idle": "2023-08-19T11:08:12.042302Z",
     "shell.execute_reply": "2023-08-19T11:08:12.040871Z"
    },
    "papermill": {
     "duration": 0.068907,
     "end_time": "2023-08-19T11:08:12.046579",
     "exception": false,
     "start_time": "2023-08-19T11:08:11.977672",
     "status": "completed"
    },
    "tags": []
   },
   "outputs": [
    {
     "data": {
      "text/plain": [
       "0.6590351594439902"
      ]
     },
     "execution_count": 200,
     "metadata": {},
     "output_type": "execute_result"
    }
   ],
   "source": [
    "lr.score(x_test,y_test)"
   ]
  },
  {
   "cell_type": "code",
   "execution_count": 201,
   "id": "a68ff3f2",
   "metadata": {
    "execution": {
     "iopub.execute_input": "2023-08-19T11:08:12.187906Z",
     "iopub.status.busy": "2023-08-19T11:08:12.187447Z",
     "iopub.status.idle": "2023-08-19T11:08:12.201399Z",
     "shell.execute_reply": "2023-08-19T11:08:12.199725Z"
    },
    "papermill": {
     "duration": 0.07137,
     "end_time": "2023-08-19T11:08:12.205733",
     "exception": false,
     "start_time": "2023-08-19T11:08:12.134363",
     "status": "completed"
    },
    "tags": []
   },
   "outputs": [],
   "source": [
    "y_pred=lr.predict(x_test)"
   ]
  },
  {
   "cell_type": "code",
   "execution_count": 202,
   "id": "940a0ba0",
   "metadata": {
    "execution": {
     "iopub.execute_input": "2023-08-19T11:08:12.348837Z",
     "iopub.status.busy": "2023-08-19T11:08:12.348376Z",
     "iopub.status.idle": "2023-08-19T11:08:12.360199Z",
     "shell.execute_reply": "2023-08-19T11:08:12.359084Z"
    },
    "papermill": {
     "duration": 0.068071,
     "end_time": "2023-08-19T11:08:12.362646",
     "exception": false,
     "start_time": "2023-08-19T11:08:12.294575",
     "status": "completed"
    },
    "tags": []
   },
   "outputs": [
    {
     "data": {
      "text/plain": [
       "0.628482972136223"
      ]
     },
     "execution_count": 202,
     "metadata": {},
     "output_type": "execute_result"
    }
   ],
   "source": [
    "precision_score(y_test,y_pred)"
   ]
  },
  {
   "cell_type": "code",
   "execution_count": 203,
   "id": "993fc8b9",
   "metadata": {
    "execution": {
     "iopub.execute_input": "2023-08-19T11:08:12.449557Z",
     "iopub.status.busy": "2023-08-19T11:08:12.448660Z",
     "iopub.status.idle": "2023-08-19T11:08:12.459776Z",
     "shell.execute_reply": "2023-08-19T11:08:12.458608Z"
    },
    "papermill": {
     "duration": 0.05785,
     "end_time": "2023-08-19T11:08:12.462429",
     "exception": false,
     "start_time": "2023-08-19T11:08:12.404579",
     "status": "completed"
    },
    "tags": []
   },
   "outputs": [
    {
     "data": {
      "text/plain": [
       "0.6963979416809606"
      ]
     },
     "execution_count": 203,
     "metadata": {},
     "output_type": "execute_result"
    }
   ],
   "source": [
    "recall_score(y_test,y_pred)"
   ]
  },
  {
   "cell_type": "code",
   "execution_count": 204,
   "id": "1f010c66",
   "metadata": {
    "execution": {
     "iopub.execute_input": "2023-08-19T11:08:12.550070Z",
     "iopub.status.busy": "2023-08-19T11:08:12.549211Z",
     "iopub.status.idle": "2023-08-19T11:08:12.558887Z",
     "shell.execute_reply": "2023-08-19T11:08:12.557520Z"
    },
    "papermill": {
     "duration": 0.055183,
     "end_time": "2023-08-19T11:08:12.561712",
     "exception": false,
     "start_time": "2023-08-19T11:08:12.506529",
     "status": "completed"
    },
    "tags": []
   },
   "outputs": [
    {
     "data": {
      "text/plain": [
       "0.6590351594439902"
      ]
     },
     "execution_count": 204,
     "metadata": {},
     "output_type": "execute_result"
    }
   ],
   "source": [
    "accuracy_score(y_test,y_pred)"
   ]
  },
  {
   "cell_type": "code",
   "execution_count": 205,
   "id": "954a748d",
   "metadata": {
    "execution": {
     "iopub.execute_input": "2023-08-19T11:08:12.647242Z",
     "iopub.status.busy": "2023-08-19T11:08:12.646831Z",
     "iopub.status.idle": "2023-08-19T11:08:12.657966Z",
     "shell.execute_reply": "2023-08-19T11:08:12.656716Z"
    },
    "papermill": {
     "duration": 0.057712,
     "end_time": "2023-08-19T11:08:12.660928",
     "exception": false,
     "start_time": "2023-08-19T11:08:12.603216",
     "status": "completed"
    },
    "tags": []
   },
   "outputs": [
    {
     "data": {
      "text/plain": [
       "0.660699755899105"
      ]
     },
     "execution_count": 205,
     "metadata": {},
     "output_type": "execute_result"
    }
   ],
   "source": [
    "f1_score(y_test,y_pred)"
   ]
  },
  {
   "cell_type": "code",
   "execution_count": 206,
   "id": "2ac46b2a",
   "metadata": {
    "execution": {
     "iopub.execute_input": "2023-08-19T11:08:12.749403Z",
     "iopub.status.busy": "2023-08-19T11:08:12.748199Z",
     "iopub.status.idle": "2023-08-19T11:08:13.068630Z",
     "shell.execute_reply": "2023-08-19T11:08:13.067237Z"
    },
    "papermill": {
     "duration": 0.366681,
     "end_time": "2023-08-19T11:08:13.071719",
     "exception": false,
     "start_time": "2023-08-19T11:08:12.705038",
     "status": "completed"
    },
    "tags": []
   },
   "outputs": [
    {
     "data": {
      "text/plain": [
       "<sklearn.metrics._plot.confusion_matrix.ConfusionMatrixDisplay at 0x26f4d924fd0>"
      ]
     },
     "execution_count": 206,
     "metadata": {},
     "output_type": "execute_result"
    },
    {
     "data": {
      "image/png": "[encoded data removed]",
      "text/plain": [
       "<Figure size 432x288 with 2 Axes>"
      ]
     },
     "metadata": {
      "needs_background": "light"
     },
     "output_type": "display_data"
    }
   ],
   "source": [
    "cmd=ConfusionMatrixDisplay(confusion_matrix=confusion_matrix(y_test,y_pred,labels=lr.classes_),display_labels=lr.classes_)\n",
    "cmd.plot()"
   ]
  },
  {
   "cell_type": "code",
   "execution_count": 207,
   "id": "c609dbb5",
   "metadata": {
    "execution": {
     "iopub.execute_input": "2023-08-19T11:08:13.160728Z",
     "iopub.status.busy": "2023-08-19T11:08:13.160305Z",
     "iopub.status.idle": "2023-08-19T11:08:13.294305Z",
     "shell.execute_reply": "2023-08-19T11:08:13.292983Z"
    },
    "papermill": {
     "duration": 0.182481,
     "end_time": "2023-08-19T11:08:13.297369",
     "exception": false,
     "start_time": "2023-08-19T11:08:13.114888",
     "status": "completed"
    },
    "tags": []
   },
   "outputs": [],
   "source": [
    "from sklearn.neighbors import KNeighborsClassifier"
   ]
  },
  {
   "cell_type": "code",
   "execution_count": 208,
   "id": "93950be4",
   "metadata": {
    "execution": {
     "iopub.execute_input": "2023-08-19T11:08:13.384969Z",
     "iopub.status.busy": "2023-08-19T11:08:13.384555Z",
     "iopub.status.idle": "2023-08-19T11:08:13.390151Z",
     "shell.execute_reply": "2023-08-19T11:08:13.388885Z"
    },
    "papermill": {
     "duration": 0.052143,
     "end_time": "2023-08-19T11:08:13.392482",
     "exception": false,
     "start_time": "2023-08-19T11:08:13.340339",
     "status": "completed"
    },
    "tags": []
   },
   "outputs": [],
   "source": [
    "knn=KNeighborsClassifier(n_neighbors=3,metric='euclidean')"
   ]
  },
  {
   "cell_type": "code",
   "execution_count": 209,
   "id": "8465ee87",
   "metadata": {
    "execution": {
     "iopub.execute_input": "2023-08-19T11:08:13.481884Z",
     "iopub.status.busy": "2023-08-19T11:08:13.481103Z",
     "iopub.status.idle": "2023-08-19T11:08:13.494398Z",
     "shell.execute_reply": "2023-08-19T11:08:13.493571Z"
    },
    "papermill": {
     "duration": 0.061429,
     "end_time": "2023-08-19T11:08:13.496633",
     "exception": false,
     "start_time": "2023-08-19T11:08:13.435204",
     "status": "completed"
    },
    "tags": []
   },
   "outputs": [
    {
     "data": {
      "text/html": [
       "<style>#sk-container-id-10 {color: black;}#sk-container-id-10 pre{padding: 0;}#sk-container-id-10 div.sk-toggleable {background-color: white;}#sk-container-id-10 label.sk-toggleable__label {cursor: pointer;display: block;width: 100%;margin-bottom: 0;padding: 0.3em;box-sizing: border-box;text-align: center;}#sk-container-id-10 label.sk-toggleable__label-arrow:before {content: \"▸\";float: left;margin-right: 0.25em;color: #696969;}#sk-container-id-10 label.sk-toggleable__label-arrow:hover:before {color: black;}#sk-container-id-10 div.sk-estimator:hover label.sk-toggleable__label-arrow:before {color: black;}#sk-container-id-10 div.sk-toggleable__content {max-height: 0;max-width: 0;overflow: hidden;text-align: left;background-color: #f0f8ff;}#sk-container-id-10 div.sk-toggleable__content pre {margin: 0.2em;color: black;border-radius: 0.25em;background-color: #f0f8ff;}#sk-container-id-10 input.sk-toggleable__control:checked~div.sk-toggleable__content {max-height: 200px;max-width: 100%;overflow: auto;}#sk-container-id-10 input.sk-toggleable__control:checked~label.sk-toggleable__label-arrow:before {content: \"▾\";}#sk-container-id-10 div.sk-estimator input.sk-toggleable__control:checked~label.sk-toggleable__label {background-color: #d4ebff;}#sk-container-id-10 div.sk-label input.sk-toggleable__control:checked~label.sk-toggleable__label {background-color: #d4ebff;}#sk-container-id-10 input.sk-hidden--visually {border: 0;clip: rect(1px 1px 1px 1px);clip: rect(1px, 1px, 1px, 1px);height: 1px;margin: -1px;overflow: hidden;padding: 0;position: absolute;width: 1px;}#sk-container-id-10 div.sk-estimator {font-family: monospace;background-color: #f0f8ff;border: 1px dotted black;border-radius: 0.25em;box-sizing: border-box;margin-bottom: 0.5em;}#sk-container-id-10 div.sk-estimator:hover {background-color: #d4ebff;}#sk-container-id-10 div.sk-parallel-item::after {content: \"\";width: 100%;border-bottom: 1px solid gray;flex-grow: 1;}#sk-container-id-10 div.sk-label:hover label.sk-toggleable__label {background-color: #d4ebff;}#sk-container-id-10 div.sk-serial::before {content: \"\";position: absolute;border-left: 1px solid gray;box-sizing: border-box;top: 0;bottom: 0;left: 50%;z-index: 0;}#sk-container-id-10 div.sk-serial {display: flex;flex-direction: column;align-items: center;background-color: white;padding-right: 0.2em;padding-left: 0.2em;position: relative;}#sk-container-id-10 div.sk-item {position: relative;z-index: 1;}#sk-container-id-10 div.sk-parallel {display: flex;align-items: stretch;justify-content: center;background-color: white;position: relative;}#sk-container-id-10 div.sk-item::before, #sk-container-id-10 div.sk-parallel-item::before {content: \"\";position: absolute;border-left: 1px solid gray;box-sizing: border-box;top: 0;bottom: 0;left: 50%;z-index: -1;}#sk-container-id-10 div.sk-parallel-item {display: flex;flex-direction: column;z-index: 1;position: relative;background-color: white;}#sk-container-id-10 div.sk-parallel-item:first-child::after {align-self: flex-end;width: 50%;}#sk-container-id-10 div.sk-parallel-item:last-child::after {align-self: flex-start;width: 50%;}#sk-container-id-10 div.sk-parallel-item:only-child::after {width: 0;}#sk-container-id-10 div.sk-dashed-wrapped {border: 1px dashed gray;margin: 0 0.4em 0.5em 0.4em;box-sizing: border-box;padding-bottom: 0.4em;background-color: white;}#sk-container-id-10 div.sk-label label {font-family: monospace;font-weight: bold;display: inline-block;line-height: 1.2em;}#sk-container-id-10 div.sk-label-container {text-align: center;}#sk-container-id-10 div.sk-container {/* jupyter's `normalize.less` sets `[hidden] { display: none; }` but bootstrap.min.css set `[hidden] { display: none !important; }` so we also need the `!important` here to be able to override the default hidden behavior on the sphinx rendered scikit-learn.org. See: https://github.com/scikit-learn/scikit-learn/issues/21755 */display: inline-block !important;position: relative;}#sk-container-id-10 div.sk-text-repr-fallback {display: none;}</style><div id=\"sk-container-id-10\" class=\"sk-top-container\"><div class=\"sk-text-repr-fallback\"><pre>KNeighborsClassifier(metric=&#x27;euclidean&#x27;, n_neighbors=3)</pre><b>In a Jupyter environment, please rerun this cell to show the HTML representation or trust the notebook. <br />On GitHub, the HTML representation is unable to render, please try loading this page with nbviewer.org.</b></div><div class=\"sk-container\" hidden><div class=\"sk-item\"><div class=\"sk-estimator sk-toggleable\"><input class=\"sk-toggleable__control sk-hidden--visually\" id=\"sk-estimator-id-10\" type=\"checkbox\" checked><label for=\"sk-estimator-id-10\" class=\"sk-toggleable__label sk-toggleable__label-arrow\">KNeighborsClassifier</label><div class=\"sk-toggleable__content\"><pre>KNeighborsClassifier(metric=&#x27;euclidean&#x27;, n_neighbors=3)</pre></div></div></div></div></div>"
      ],
      "text/plain": [
       "KNeighborsClassifier(metric='euclidean', n_neighbors=3)"
      ]
     },
     "execution_count": 209,
     "metadata": {},
     "output_type": "execute_result"
    }
   ],
   "source": [
    "knn.fit(x_train,y_train)"
   ]
  },
  {
   "cell_type": "code",
   "execution_count": 210,
   "id": "97668dde",
   "metadata": {
    "execution": {
     "iopub.execute_input": "2023-08-19T11:08:13.584022Z",
     "iopub.status.busy": "2023-08-19T11:08:13.583182Z",
     "iopub.status.idle": "2023-08-19T11:08:13.707140Z",
     "shell.execute_reply": "2023-08-19T11:08:13.705787Z"
    },
    "papermill": {
     "duration": 0.170492,
     "end_time": "2023-08-19T11:08:13.709737",
     "exception": false,
     "start_time": "2023-08-19T11:08:13.539245",
     "status": "completed"
    },
    "tags": []
   },
   "outputs": [
    {
     "data": {
      "text/plain": [
       "0.7642932304454577"
      ]
     },
     "execution_count": 210,
     "metadata": {},
     "output_type": "execute_result"
    }
   ],
   "source": [
    "knn.score(x_train,y_train)"
   ]
  },
  {
   "cell_type": "code",
   "execution_count": 211,
   "id": "20e13d8d",
   "metadata": {
    "execution": {
     "iopub.execute_input": "2023-08-19T11:08:13.796736Z",
     "iopub.status.busy": "2023-08-19T11:08:13.796294Z",
     "iopub.status.idle": "2023-08-19T11:08:13.857153Z",
     "shell.execute_reply": "2023-08-19T11:08:13.855813Z"
    },
    "papermill": {
     "duration": 0.107911,
     "end_time": "2023-08-19T11:08:13.859953",
     "exception": false,
     "start_time": "2023-08-19T11:08:13.752042",
     "status": "completed"
    },
    "tags": []
   },
   "outputs": [
    {
     "data": {
      "text/plain": [
       "0.5257563368765331"
      ]
     },
     "execution_count": 211,
     "metadata": {},
     "output_type": "execute_result"
    }
   ],
   "source": [
    "knn.score(x_test,y_test)"
   ]
  },
  {
   "cell_type": "code",
   "execution_count": 212,
   "id": "2e766dba",
   "metadata": {
    "execution": {
     "iopub.execute_input": "2023-08-19T11:08:13.946750Z",
     "iopub.status.busy": "2023-08-19T11:08:13.946298Z",
     "iopub.status.idle": "2023-08-19T11:08:13.959140Z",
     "shell.execute_reply": "2023-08-19T11:08:13.957595Z"
    },
    "papermill": {
     "duration": 0.061443,
     "end_time": "2023-08-19T11:08:13.963961",
     "exception": false,
     "start_time": "2023-08-19T11:08:13.902518",
     "status": "completed"
    },
    "tags": []
   },
   "outputs": [],
   "source": [
    "y_pred=lr.predict(x_test)"
   ]
  },
  {
   "cell_type": "code",
   "execution_count": 213,
   "id": "089feb53",
   "metadata": {
    "execution": {
     "iopub.execute_input": "2023-08-19T11:08:14.110207Z",
     "iopub.status.busy": "2023-08-19T11:08:14.109797Z",
     "iopub.status.idle": "2023-08-19T11:08:14.120532Z",
     "shell.execute_reply": "2023-08-19T11:08:14.119337Z"
    },
    "papermill": {
     "duration": 0.065361,
     "end_time": "2023-08-19T11:08:14.123112",
     "exception": false,
     "start_time": "2023-08-19T11:08:14.057751",
     "status": "completed"
    },
    "tags": []
   },
   "outputs": [
    {
     "data": {
      "text/plain": [
       "0.628482972136223"
      ]
     },
     "execution_count": 213,
     "metadata": {},
     "output_type": "execute_result"
    }
   ],
   "source": [
    "precision_score(y_test,y_pred)"
   ]
  },
  {
   "cell_type": "code",
   "execution_count": 214,
   "id": "9f403658",
   "metadata": {
    "execution": {
     "iopub.execute_input": "2023-08-19T11:08:14.211198Z",
     "iopub.status.busy": "2023-08-19T11:08:14.210770Z",
     "iopub.status.idle": "2023-08-19T11:08:14.221737Z",
     "shell.execute_reply": "2023-08-19T11:08:14.220602Z"
    },
    "papermill": {
     "duration": 0.058506,
     "end_time": "2023-08-19T11:08:14.224151",
     "exception": false,
     "start_time": "2023-08-19T11:08:14.165645",
     "status": "completed"
    },
    "tags": []
   },
   "outputs": [
    {
     "data": {
      "text/plain": [
       "0.6963979416809606"
      ]
     },
     "execution_count": 214,
     "metadata": {},
     "output_type": "execute_result"
    }
   ],
   "source": [
    "recall_score(y_test,y_pred)"
   ]
  },
  {
   "cell_type": "code",
   "execution_count": 215,
   "id": "3dafbaf6",
   "metadata": {
    "execution": {
     "iopub.execute_input": "2023-08-19T11:08:14.311271Z",
     "iopub.status.busy": "2023-08-19T11:08:14.310865Z",
     "iopub.status.idle": "2023-08-19T11:08:14.319302Z",
     "shell.execute_reply": "2023-08-19T11:08:14.318171Z"
    },
    "papermill": {
     "duration": 0.054632,
     "end_time": "2023-08-19T11:08:14.321484",
     "exception": false,
     "start_time": "2023-08-19T11:08:14.266852",
     "status": "completed"
    },
    "tags": []
   },
   "outputs": [
    {
     "data": {
      "text/plain": [
       "0.6590351594439902"
      ]
     },
     "execution_count": 215,
     "metadata": {},
     "output_type": "execute_result"
    }
   ],
   "source": [
    "accuracy_score(y_test,y_pred)"
   ]
  },
  {
   "cell_type": "code",
   "execution_count": 216,
   "id": "f42a4cd2",
   "metadata": {
    "execution": {
     "iopub.execute_input": "2023-08-19T11:08:14.412636Z",
     "iopub.status.busy": "2023-08-19T11:08:14.412143Z",
     "iopub.status.idle": "2023-08-19T11:08:14.423034Z",
     "shell.execute_reply": "2023-08-19T11:08:14.422116Z"
    },
    "papermill": {
     "duration": 0.057792,
     "end_time": "2023-08-19T11:08:14.425562",
     "exception": false,
     "start_time": "2023-08-19T11:08:14.367770",
     "status": "completed"
    },
    "tags": []
   },
   "outputs": [
    {
     "data": {
      "text/plain": [
       "0.660699755899105"
      ]
     },
     "execution_count": 216,
     "metadata": {},
     "output_type": "execute_result"
    }
   ],
   "source": [
    "f1_score(y_test,y_pred)"
   ]
  },
  {
   "cell_type": "code",
   "execution_count": 217,
   "id": "949af196",
   "metadata": {
    "execution": {
     "iopub.execute_input": "2023-08-19T11:08:14.531358Z",
     "iopub.status.busy": "2023-08-19T11:08:14.530943Z",
     "iopub.status.idle": "2023-08-19T11:08:15.028817Z",
     "shell.execute_reply": "2023-08-19T11:08:15.027092Z"
    },
    "papermill": {
     "duration": 0.558201,
     "end_time": "2023-08-19T11:08:15.031543",
     "exception": false,
     "start_time": "2023-08-19T11:08:14.473342",
     "status": "completed"
    },
    "tags": []
   },
   "outputs": [
    {
     "data": {
      "text/plain": [
       "<sklearn.metrics._plot.confusion_matrix.ConfusionMatrixDisplay at 0x26f4d9c68b0>"
      ]
     },
     "execution_count": 217,
     "metadata": {},
     "output_type": "execute_result"
    },
    {
     "data": {
      "image/png": "[encoded data removed]",
      "text/plain": [
       "<Figure size 432x288 with 2 Axes>"
      ]
     },
     "metadata": {
      "needs_background": "light"
     },
     "output_type": "display_data"
    }
   ],
   "source": [
    "cmd=ConfusionMatrixDisplay(confusion_matrix=confusion_matrix(y_test,y_pred,labels=knn.classes_),display_labels=knn.classes_)\n",
    "cmd.plot()"
   ]
  },
  {
   "cell_type": "code",
   "execution_count": 218,
   "id": "3882456a",
   "metadata": {
    "execution": {
     "iopub.execute_input": "2023-08-19T11:08:15.122091Z",
     "iopub.status.busy": "2023-08-19T11:08:15.121598Z",
     "iopub.status.idle": "2023-08-19T11:08:15.127270Z",
     "shell.execute_reply": "2023-08-19T11:08:15.126073Z"
    },
    "papermill": {
     "duration": 0.05357,
     "end_time": "2023-08-19T11:08:15.129620",
     "exception": false,
     "start_time": "2023-08-19T11:08:15.076050",
     "status": "completed"
    },
    "tags": []
   },
   "outputs": [],
   "source": [
    "knn=KNeighborsClassifier(n_neighbors=3,metric='euclidean')"
   ]
  },
  {
   "cell_type": "code",
   "execution_count": 219,
   "id": "a7530df3",
   "metadata": {
    "execution": {
     "iopub.execute_input": "2023-08-19T11:08:15.219651Z",
     "iopub.status.busy": "2023-08-19T11:08:15.218943Z",
     "iopub.status.idle": "2023-08-19T11:08:15.223889Z",
     "shell.execute_reply": "2023-08-19T11:08:15.223056Z"
    },
    "papermill": {
     "duration": 0.052389,
     "end_time": "2023-08-19T11:08:15.226119",
     "exception": false,
     "start_time": "2023-08-19T11:08:15.173730",
     "status": "completed"
    },
    "tags": []
   },
   "outputs": [],
   "source": [
    "from sklearn.preprocessing import StandardScaler"
   ]
  },
  {
   "cell_type": "code",
   "execution_count": 220,
   "id": "2fa646b4",
   "metadata": {
    "execution": {
     "iopub.execute_input": "2023-08-19T11:08:15.317005Z",
     "iopub.status.busy": "2023-08-19T11:08:15.315875Z",
     "iopub.status.idle": "2023-08-19T11:08:15.320781Z",
     "shell.execute_reply": "2023-08-19T11:08:15.319766Z"
    },
    "papermill": {
     "duration": 0.052023,
     "end_time": "2023-08-19T11:08:15.322918",
     "exception": false,
     "start_time": "2023-08-19T11:08:15.270895",
     "status": "completed"
    },
    "tags": []
   },
   "outputs": [],
   "source": [
    "ss=StandardScaler()"
   ]
  },
  {
   "cell_type": "code",
   "execution_count": 221,
   "id": "97c731f1",
   "metadata": {
    "execution": {
     "iopub.execute_input": "2023-08-19T11:08:15.412575Z",
     "iopub.status.busy": "2023-08-19T11:08:15.411865Z",
     "iopub.status.idle": "2023-08-19T11:08:15.428217Z",
     "shell.execute_reply": "2023-08-19T11:08:15.426768Z"
    },
    "papermill": {
     "duration": 0.064473,
     "end_time": "2023-08-19T11:08:15.431220",
     "exception": false,
     "start_time": "2023-08-19T11:08:15.366747",
     "status": "completed"
    },
    "tags": []
   },
   "outputs": [],
   "source": [
    "x_train_ss=ss.fit_transform(x_train)\n",
    "x_test_ss=ss.fit_transform(x_test)"
   ]
  },
  {
   "cell_type": "code",
   "execution_count": 222,
   "id": "bbdd5935",
   "metadata": {
    "execution": {
     "iopub.execute_input": "2023-08-19T11:08:15.524092Z",
     "iopub.status.busy": "2023-08-19T11:08:15.523638Z",
     "iopub.status.idle": "2023-08-19T11:08:15.536149Z",
     "shell.execute_reply": "2023-08-19T11:08:15.534912Z"
    },
    "papermill": {
     "duration": 0.063139,
     "end_time": "2023-08-19T11:08:15.538762",
     "exception": false,
     "start_time": "2023-08-19T11:08:15.475623",
     "status": "completed"
    },
    "tags": []
   },
   "outputs": [
    {
     "data": {
      "text/html": [
       "<style>#sk-container-id-11 {color: black;}#sk-container-id-11 pre{padding: 0;}#sk-container-id-11 div.sk-toggleable {background-color: white;}#sk-container-id-11 label.sk-toggleable__label {cursor: pointer;display: block;width: 100%;margin-bottom: 0;padding: 0.3em;box-sizing: border-box;text-align: center;}#sk-container-id-11 label.sk-toggleable__label-arrow:before {content: \"▸\";float: left;margin-right: 0.25em;color: #696969;}#sk-container-id-11 label.sk-toggleable__label-arrow:hover:before {color: black;}#sk-container-id-11 div.sk-estimator:hover label.sk-toggleable__label-arrow:before {color: black;}#sk-container-id-11 div.sk-toggleable__content {max-height: 0;max-width: 0;overflow: hidden;text-align: left;background-color: #f0f8ff;}#sk-container-id-11 div.sk-toggleable__content pre {margin: 0.2em;color: black;border-radius: 0.25em;background-color: #f0f8ff;}#sk-container-id-11 input.sk-toggleable__control:checked~div.sk-toggleable__content {max-height: 200px;max-width: 100%;overflow: auto;}#sk-container-id-11 input.sk-toggleable__control:checked~label.sk-toggleable__label-arrow:before {content: \"▾\";}#sk-container-id-11 div.sk-estimator input.sk-toggleable__control:checked~label.sk-toggleable__label {background-color: #d4ebff;}#sk-container-id-11 div.sk-label input.sk-toggleable__control:checked~label.sk-toggleable__label {background-color: #d4ebff;}#sk-container-id-11 input.sk-hidden--visually {border: 0;clip: rect(1px 1px 1px 1px);clip: rect(1px, 1px, 1px, 1px);height: 1px;margin: -1px;overflow: hidden;padding: 0;position: absolute;width: 1px;}#sk-container-id-11 div.sk-estimator {font-family: monospace;background-color: #f0f8ff;border: 1px dotted black;border-radius: 0.25em;box-sizing: border-box;margin-bottom: 0.5em;}#sk-container-id-11 div.sk-estimator:hover {background-color: #d4ebff;}#sk-container-id-11 div.sk-parallel-item::after {content: \"\";width: 100%;border-bottom: 1px solid gray;flex-grow: 1;}#sk-container-id-11 div.sk-label:hover label.sk-toggleable__label {background-color: #d4ebff;}#sk-container-id-11 div.sk-serial::before {content: \"\";position: absolute;border-left: 1px solid gray;box-sizing: border-box;top: 0;bottom: 0;left: 50%;z-index: 0;}#sk-container-id-11 div.sk-serial {display: flex;flex-direction: column;align-items: center;background-color: white;padding-right: 0.2em;padding-left: 0.2em;position: relative;}#sk-container-id-11 div.sk-item {position: relative;z-index: 1;}#sk-container-id-11 div.sk-parallel {display: flex;align-items: stretch;justify-content: center;background-color: white;position: relative;}#sk-container-id-11 div.sk-item::before, #sk-container-id-11 div.sk-parallel-item::before {content: \"\";position: absolute;border-left: 1px solid gray;box-sizing: border-box;top: 0;bottom: 0;left: 50%;z-index: -1;}#sk-container-id-11 div.sk-parallel-item {display: flex;flex-direction: column;z-index: 1;position: relative;background-color: white;}#sk-container-id-11 div.sk-parallel-item:first-child::after {align-self: flex-end;width: 50%;}#sk-container-id-11 div.sk-parallel-item:last-child::after {align-self: flex-start;width: 50%;}#sk-container-id-11 div.sk-parallel-item:only-child::after {width: 0;}#sk-container-id-11 div.sk-dashed-wrapped {border: 1px dashed gray;margin: 0 0.4em 0.5em 0.4em;box-sizing: border-box;padding-bottom: 0.4em;background-color: white;}#sk-container-id-11 div.sk-label label {font-family: monospace;font-weight: bold;display: inline-block;line-height: 1.2em;}#sk-container-id-11 div.sk-label-container {text-align: center;}#sk-container-id-11 div.sk-container {/* jupyter's `normalize.less` sets `[hidden] { display: none; }` but bootstrap.min.css set `[hidden] { display: none !important; }` so we also need the `!important` here to be able to override the default hidden behavior on the sphinx rendered scikit-learn.org. See: https://github.com/scikit-learn/scikit-learn/issues/21755 */display: inline-block !important;position: relative;}#sk-container-id-11 div.sk-text-repr-fallback {display: none;}</style><div id=\"sk-container-id-11\" class=\"sk-top-container\"><div class=\"sk-text-repr-fallback\"><pre>KNeighborsClassifier(metric=&#x27;euclidean&#x27;, n_neighbors=3)</pre><b>In a Jupyter environment, please rerun this cell to show the HTML representation or trust the notebook. <br />On GitHub, the HTML representation is unable to render, please try loading this page with nbviewer.org.</b></div><div class=\"sk-container\" hidden><div class=\"sk-item\"><div class=\"sk-estimator sk-toggleable\"><input class=\"sk-toggleable__control sk-hidden--visually\" id=\"sk-estimator-id-11\" type=\"checkbox\" checked><label for=\"sk-estimator-id-11\" class=\"sk-toggleable__label sk-toggleable__label-arrow\">KNeighborsClassifier</label><div class=\"sk-toggleable__content\"><pre>KNeighborsClassifier(metric=&#x27;euclidean&#x27;, n_neighbors=3)</pre></div></div></div></div></div>"
      ],
      "text/plain": [
       "KNeighborsClassifier(metric='euclidean', n_neighbors=3)"
      ]
     },
     "execution_count": 222,
     "metadata": {},
     "output_type": "execute_result"
    }
   ],
   "source": [
    "knn.fit(x_train_ss,y_train)"
   ]
  },
  {
   "cell_type": "code",
   "execution_count": 223,
   "id": "0e716eec",
   "metadata": {
    "execution": {
     "iopub.execute_input": "2023-08-19T11:08:15.629358Z",
     "iopub.status.busy": "2023-08-19T11:08:15.628554Z",
     "iopub.status.idle": "2023-08-19T11:08:15.783444Z",
     "shell.execute_reply": "2023-08-19T11:08:15.782171Z"
    },
    "papermill": {
     "duration": 0.202979,
     "end_time": "2023-08-19T11:08:15.786132",
     "exception": false,
     "start_time": "2023-08-19T11:08:15.583153",
     "status": "completed"
    },
    "tags": []
   },
   "outputs": [
    {
     "data": {
      "text/plain": [
       "0.8439144159943879"
      ]
     },
     "execution_count": 223,
     "metadata": {},
     "output_type": "execute_result"
    }
   ],
   "source": [
    "knn.score(x_train_ss,y_train)"
   ]
  },
  {
   "cell_type": "code",
   "execution_count": 224,
   "id": "96db43d8",
   "metadata": {
    "execution": {
     "iopub.execute_input": "2023-08-19T11:08:15.876822Z",
     "iopub.status.busy": "2023-08-19T11:08:15.875748Z",
     "iopub.status.idle": "2023-08-19T11:08:15.954709Z",
     "shell.execute_reply": "2023-08-19T11:08:15.953392Z"
    },
    "papermill": {
     "duration": 0.127029,
     "end_time": "2023-08-19T11:08:15.957351",
     "exception": false,
     "start_time": "2023-08-19T11:08:15.830322",
     "status": "completed"
    },
    "tags": []
   },
   "outputs": [
    {
     "data": {
      "text/plain": [
       "0.7228127555192151"
      ]
     },
     "execution_count": 224,
     "metadata": {},
     "output_type": "execute_result"
    }
   ],
   "source": [
    "knn.score(x_test_ss,y_test)"
   ]
  },
  {
   "cell_type": "code",
   "execution_count": 225,
   "id": "b129661b",
   "metadata": {
    "execution": {
     "iopub.execute_input": "2023-08-19T11:08:16.050403Z",
     "iopub.status.busy": "2023-08-19T11:08:16.049328Z",
     "iopub.status.idle": "2023-08-19T11:08:16.126345Z",
     "shell.execute_reply": "2023-08-19T11:08:16.124838Z"
    },
    "papermill": {
     "duration": 0.127223,
     "end_time": "2023-08-19T11:08:16.129624",
     "exception": false,
     "start_time": "2023-08-19T11:08:16.002401",
     "status": "completed"
    },
    "tags": []
   },
   "outputs": [],
   "source": [
    "y_pred=knn.predict(x_test_ss)"
   ]
  },
  {
   "cell_type": "code",
   "execution_count": 226,
   "id": "b1ebab2b",
   "metadata": {
    "execution": {
     "iopub.execute_input": "2023-08-19T11:08:16.220582Z",
     "iopub.status.busy": "2023-08-19T11:08:16.219778Z",
     "iopub.status.idle": "2023-08-19T11:08:16.229649Z",
     "shell.execute_reply": "2023-08-19T11:08:16.228335Z"
    },
    "papermill": {
     "duration": 0.058276,
     "end_time": "2023-08-19T11:08:16.232131",
     "exception": false,
     "start_time": "2023-08-19T11:08:16.173855",
     "status": "completed"
    },
    "tags": []
   },
   "outputs": [
    {
     "data": {
      "text/plain": [
       "0.708904109589041"
      ]
     },
     "execution_count": 226,
     "metadata": {},
     "output_type": "execute_result"
    }
   ],
   "source": [
    "precision_score(y_test,y_pred)"
   ]
  },
  {
   "cell_type": "code",
   "execution_count": 227,
   "id": "f7647cdb",
   "metadata": {
    "execution": {
     "iopub.execute_input": "2023-08-19T11:08:16.324527Z",
     "iopub.status.busy": "2023-08-19T11:08:16.323322Z",
     "iopub.status.idle": "2023-08-19T11:08:16.334248Z",
     "shell.execute_reply": "2023-08-19T11:08:16.332790Z"
    },
    "papermill": {
     "duration": 0.060418,
     "end_time": "2023-08-19T11:08:16.336664",
     "exception": false,
     "start_time": "2023-08-19T11:08:16.276246",
     "status": "completed"
    },
    "tags": []
   },
   "outputs": [
    {
     "data": {
      "text/plain": [
       "0.7101200686106347"
      ]
     },
     "execution_count": 227,
     "metadata": {},
     "output_type": "execute_result"
    }
   ],
   "source": [
    "recall_score(y_test,y_pred)"
   ]
  },
  {
   "cell_type": "code",
   "execution_count": 228,
   "id": "5bd63cf4",
   "metadata": {
    "execution": {
     "iopub.execute_input": "2023-08-19T11:08:16.430473Z",
     "iopub.status.busy": "2023-08-19T11:08:16.430006Z",
     "iopub.status.idle": "2023-08-19T11:08:16.438815Z",
     "shell.execute_reply": "2023-08-19T11:08:16.437594Z"
    },
    "papermill": {
     "duration": 0.058459,
     "end_time": "2023-08-19T11:08:16.441240",
     "exception": false,
     "start_time": "2023-08-19T11:08:16.382781",
     "status": "completed"
    },
    "tags": []
   },
   "outputs": [
    {
     "data": {
      "text/plain": [
       "0.7228127555192151"
      ]
     },
     "execution_count": 228,
     "metadata": {},
     "output_type": "execute_result"
    }
   ],
   "source": [
    "accuracy_score(y_test,y_pred)"
   ]
  },
  {
   "cell_type": "code",
   "execution_count": 229,
   "id": "97a911f0",
   "metadata": {
    "execution": {
     "iopub.execute_input": "2023-08-19T11:08:16.535093Z",
     "iopub.status.busy": "2023-08-19T11:08:16.534654Z",
     "iopub.status.idle": "2023-08-19T11:08:16.546026Z",
     "shell.execute_reply": "2023-08-19T11:08:16.545112Z"
    },
    "papermill": {
     "duration": 0.061321,
     "end_time": "2023-08-19T11:08:16.548234",
     "exception": false,
     "start_time": "2023-08-19T11:08:16.486913",
     "status": "completed"
    },
    "tags": []
   },
   "outputs": [
    {
     "data": {
      "text/plain": [
       "0.7095115681233933"
      ]
     },
     "execution_count": 229,
     "metadata": {},
     "output_type": "execute_result"
    }
   ],
   "source": [
    "f1_score(y_test,y_pred)"
   ]
  },
  {
   "cell_type": "code",
   "execution_count": 230,
   "id": "682bf323",
   "metadata": {
    "execution": {
     "iopub.execute_input": "2023-08-19T11:08:16.642644Z",
     "iopub.status.busy": "2023-08-19T11:08:16.641322Z",
     "iopub.status.idle": "2023-08-19T11:08:16.965858Z",
     "shell.execute_reply": "2023-08-19T11:08:16.964553Z"
    },
    "papermill": {
     "duration": 0.374828,
     "end_time": "2023-08-19T11:08:16.968534",
     "exception": false,
     "start_time": "2023-08-19T11:08:16.593706",
     "status": "completed"
    },
    "tags": []
   },
   "outputs": [
    {
     "data": {
      "text/plain": [
       "<sklearn.metrics._plot.confusion_matrix.ConfusionMatrixDisplay at 0x26f4d527460>"
      ]
     },
     "execution_count": 230,
     "metadata": {},
     "output_type": "execute_result"
    },
    {
     "data": {
      "image/png": "[encoded data removed]",
      "text/plain": [
       "<Figure size 432x288 with 2 Axes>"
      ]
     },
     "metadata": {
      "needs_background": "light"
     },
     "output_type": "display_data"
    }
   ],
   "source": [
    "cmd=ConfusionMatrixDisplay(confusion_matrix=confusion_matrix(y_test,y_pred,labels=knn.classes_),display_labels=knn.classes_)\n",
    "cmd.plot()"
   ]
  },
  {
   "cell_type": "code",
   "execution_count": 231,
   "id": "16fe920c",
   "metadata": {
    "execution": {
     "iopub.execute_input": "2023-08-19T11:08:17.062066Z",
     "iopub.status.busy": "2023-08-19T11:08:17.061673Z",
     "iopub.status.idle": "2023-08-19T11:08:17.066882Z",
     "shell.execute_reply": "2023-08-19T11:08:17.065762Z"
    },
    "papermill": {
     "duration": 0.054956,
     "end_time": "2023-08-19T11:08:17.068981",
     "exception": false,
     "start_time": "2023-08-19T11:08:17.014025",
     "status": "completed"
    },
    "tags": []
   },
   "outputs": [],
   "source": [
    "from sklearn.svm import SVC"
   ]
  },
  {
   "cell_type": "code",
   "execution_count": 232,
   "id": "606a0244",
   "metadata": {
    "execution": {
     "iopub.execute_input": "2023-08-19T11:08:17.165152Z",
     "iopub.status.busy": "2023-08-19T11:08:17.164723Z",
     "iopub.status.idle": "2023-08-19T11:08:17.170159Z",
     "shell.execute_reply": "2023-08-19T11:08:17.168879Z"
    },
    "papermill": {
     "duration": 0.056294,
     "end_time": "2023-08-19T11:08:17.172802",
     "exception": false,
     "start_time": "2023-08-19T11:08:17.116508",
     "status": "completed"
    },
    "tags": []
   },
   "outputs": [],
   "source": [
    "svc=SVC(kernel='rbf',gamma=2,C=1)"
   ]
  },
  {
   "cell_type": "code",
   "execution_count": 233,
   "id": "85b7c88a",
   "metadata": {
    "execution": {
     "iopub.execute_input": "2023-08-19T11:08:17.268251Z",
     "iopub.status.busy": "2023-08-19T11:08:17.267096Z",
     "iopub.status.idle": "2023-08-19T11:08:17.750520Z",
     "shell.execute_reply": "2023-08-19T11:08:17.748893Z"
    },
    "papermill": {
     "duration": 0.533861,
     "end_time": "2023-08-19T11:08:17.753203",
     "exception": false,
     "start_time": "2023-08-19T11:08:17.219342",
     "status": "completed"
    },
    "tags": []
   },
   "outputs": [
    {
     "data": {
      "text/html": [
       "<style>#sk-container-id-12 {color: black;}#sk-container-id-12 pre{padding: 0;}#sk-container-id-12 div.sk-toggleable {background-color: white;}#sk-container-id-12 label.sk-toggleable__label {cursor: pointer;display: block;width: 100%;margin-bottom: 0;padding: 0.3em;box-sizing: border-box;text-align: center;}#sk-container-id-12 label.sk-toggleable__label-arrow:before {content: \"▸\";float: left;margin-right: 0.25em;color: #696969;}#sk-container-id-12 label.sk-toggleable__label-arrow:hover:before {color: black;}#sk-container-id-12 div.sk-estimator:hover label.sk-toggleable__label-arrow:before {color: black;}#sk-container-id-12 div.sk-toggleable__content {max-height: 0;max-width: 0;overflow: hidden;text-align: left;background-color: #f0f8ff;}#sk-container-id-12 div.sk-toggleable__content pre {margin: 0.2em;color: black;border-radius: 0.25em;background-color: #f0f8ff;}#sk-container-id-12 input.sk-toggleable__control:checked~div.sk-toggleable__content {max-height: 200px;max-width: 100%;overflow: auto;}#sk-container-id-12 input.sk-toggleable__control:checked~label.sk-toggleable__label-arrow:before {content: \"▾\";}#sk-container-id-12 div.sk-estimator input.sk-toggleable__control:checked~label.sk-toggleable__label {background-color: #d4ebff;}#sk-container-id-12 div.sk-label input.sk-toggleable__control:checked~label.sk-toggleable__label {background-color: #d4ebff;}#sk-container-id-12 input.sk-hidden--visually {border: 0;clip: rect(1px 1px 1px 1px);clip: rect(1px, 1px, 1px, 1px);height: 1px;margin: -1px;overflow: hidden;padding: 0;position: absolute;width: 1px;}#sk-container-id-12 div.sk-estimator {font-family: monospace;background-color: #f0f8ff;border: 1px dotted black;border-radius: 0.25em;box-sizing: border-box;margin-bottom: 0.5em;}#sk-container-id-12 div.sk-estimator:hover {background-color: #d4ebff;}#sk-container-id-12 div.sk-parallel-item::after {content: \"\";width: 100%;border-bottom: 1px solid gray;flex-grow: 1;}#sk-container-id-12 div.sk-label:hover label.sk-toggleable__label {background-color: #d4ebff;}#sk-container-id-12 div.sk-serial::before {content: \"\";position: absolute;border-left: 1px solid gray;box-sizing: border-box;top: 0;bottom: 0;left: 50%;z-index: 0;}#sk-container-id-12 div.sk-serial {display: flex;flex-direction: column;align-items: center;background-color: white;padding-right: 0.2em;padding-left: 0.2em;position: relative;}#sk-container-id-12 div.sk-item {position: relative;z-index: 1;}#sk-container-id-12 div.sk-parallel {display: flex;align-items: stretch;justify-content: center;background-color: white;position: relative;}#sk-container-id-12 div.sk-item::before, #sk-container-id-12 div.sk-parallel-item::before {content: \"\";position: absolute;border-left: 1px solid gray;box-sizing: border-box;top: 0;bottom: 0;left: 50%;z-index: -1;}#sk-container-id-12 div.sk-parallel-item {display: flex;flex-direction: column;z-index: 1;position: relative;background-color: white;}#sk-container-id-12 div.sk-parallel-item:first-child::after {align-self: flex-end;width: 50%;}#sk-container-id-12 div.sk-parallel-item:last-child::after {align-self: flex-start;width: 50%;}#sk-container-id-12 div.sk-parallel-item:only-child::after {width: 0;}#sk-container-id-12 div.sk-dashed-wrapped {border: 1px dashed gray;margin: 0 0.4em 0.5em 0.4em;box-sizing: border-box;padding-bottom: 0.4em;background-color: white;}#sk-container-id-12 div.sk-label label {font-family: monospace;font-weight: bold;display: inline-block;line-height: 1.2em;}#sk-container-id-12 div.sk-label-container {text-align: center;}#sk-container-id-12 div.sk-container {/* jupyter's `normalize.less` sets `[hidden] { display: none; }` but bootstrap.min.css set `[hidden] { display: none !important; }` so we also need the `!important` here to be able to override the default hidden behavior on the sphinx rendered scikit-learn.org. See: https://github.com/scikit-learn/scikit-learn/issues/21755 */display: inline-block !important;position: relative;}#sk-container-id-12 div.sk-text-repr-fallback {display: none;}</style><div id=\"sk-container-id-12\" class=\"sk-top-container\"><div class=\"sk-text-repr-fallback\"><pre>SVC(C=1, gamma=2)</pre><b>In a Jupyter environment, please rerun this cell to show the HTML representation or trust the notebook. <br />On GitHub, the HTML representation is unable to render, please try loading this page with nbviewer.org.</b></div><div class=\"sk-container\" hidden><div class=\"sk-item\"><div class=\"sk-estimator sk-toggleable\"><input class=\"sk-toggleable__control sk-hidden--visually\" id=\"sk-estimator-id-12\" type=\"checkbox\" checked><label for=\"sk-estimator-id-12\" class=\"sk-toggleable__label sk-toggleable__label-arrow\">SVC</label><div class=\"sk-toggleable__content\"><pre>SVC(C=1, gamma=2)</pre></div></div></div></div></div>"
      ],
      "text/plain": [
       "SVC(C=1, gamma=2)"
      ]
     },
     "execution_count": 233,
     "metadata": {},
     "output_type": "execute_result"
    }
   ],
   "source": [
    "svc.fit(x_train,y_train)"
   ]
  },
  {
   "cell_type": "code",
   "execution_count": 234,
   "id": "857a879a",
   "metadata": {
    "execution": {
     "iopub.execute_input": "2023-08-19T11:08:17.847411Z",
     "iopub.status.busy": "2023-08-19T11:08:17.846955Z",
     "iopub.status.idle": "2023-08-19T11:08:18.324980Z",
     "shell.execute_reply": "2023-08-19T11:08:18.323817Z"
    },
    "papermill": {
     "duration": 0.528,
     "end_time": "2023-08-19T11:08:18.327381",
     "exception": false,
     "start_time": "2023-08-19T11:08:17.799381",
     "status": "completed"
    },
    "tags": []
   },
   "outputs": [
    {
     "data": {
      "text/plain": [
       "1.0"
      ]
     },
     "execution_count": 234,
     "metadata": {},
     "output_type": "execute_result"
    }
   ],
   "source": [
    "svc.score(x_train,y_train)"
   ]
  },
  {
   "cell_type": "code",
   "execution_count": 235,
   "id": "6fa06574",
   "metadata": {
    "execution": {
     "iopub.execute_input": "2023-08-19T11:08:18.424089Z",
     "iopub.status.busy": "2023-08-19T11:08:18.423683Z",
     "iopub.status.idle": "2023-08-19T11:08:18.632922Z",
     "shell.execute_reply": "2023-08-19T11:08:18.631559Z"
    },
    "papermill": {
     "duration": 0.260702,
     "end_time": "2023-08-19T11:08:18.635876",
     "exception": false,
     "start_time": "2023-08-19T11:08:18.375174",
     "status": "completed"
    },
    "tags": []
   },
   "outputs": [
    {
     "data": {
      "text/plain": [
       "0.4766966475878986"
      ]
     },
     "execution_count": 235,
     "metadata": {},
     "output_type": "execute_result"
    }
   ],
   "source": [
    "svc.score(x_test,y_test)"
   ]
  },
  {
   "cell_type": "code",
   "execution_count": 236,
   "id": "d6f29625",
   "metadata": {
    "execution": {
     "iopub.execute_input": "2023-08-19T11:08:18.734086Z",
     "iopub.status.busy": "2023-08-19T11:08:18.733644Z",
     "iopub.status.idle": "2023-08-19T11:08:18.810234Z",
     "shell.execute_reply": "2023-08-19T11:08:18.808867Z"
    },
    "papermill": {
     "duration": 0.12949,
     "end_time": "2023-08-19T11:08:18.813246",
     "exception": false,
     "start_time": "2023-08-19T11:08:18.683756",
     "status": "completed"
    },
    "tags": []
   },
   "outputs": [],
   "source": [
    "y_pred=knn.predict(x_test_ss)"
   ]
  },
  {
   "cell_type": "code",
   "execution_count": 237,
   "id": "39462082",
   "metadata": {
    "execution": {
     "iopub.execute_input": "2023-08-19T11:08:18.908955Z",
     "iopub.status.busy": "2023-08-19T11:08:18.908547Z",
     "iopub.status.idle": "2023-08-19T11:08:18.920524Z",
     "shell.execute_reply": "2023-08-19T11:08:18.919483Z"
    },
    "papermill": {
     "duration": 0.062997,
     "end_time": "2023-08-19T11:08:18.923059",
     "exception": false,
     "start_time": "2023-08-19T11:08:18.860062",
     "status": "completed"
    },
    "tags": []
   },
   "outputs": [
    {
     "data": {
      "text/plain": [
       "0.708904109589041"
      ]
     },
     "execution_count": 237,
     "metadata": {},
     "output_type": "execute_result"
    }
   ],
   "source": [
    "precision_score(y_test,y_pred)"
   ]
  },
  {
   "cell_type": "code",
   "execution_count": 238,
   "id": "a6e29576",
   "metadata": {
    "execution": {
     "iopub.execute_input": "2023-08-19T11:08:19.017172Z",
     "iopub.status.busy": "2023-08-19T11:08:19.016752Z",
     "iopub.status.idle": "2023-08-19T11:08:19.028645Z",
     "shell.execute_reply": "2023-08-19T11:08:19.027532Z"
    },
    "papermill": {
     "duration": 0.062445,
     "end_time": "2023-08-19T11:08:19.031420",
     "exception": false,
     "start_time": "2023-08-19T11:08:18.968975",
     "status": "completed"
    },
    "tags": []
   },
   "outputs": [
    {
     "data": {
      "text/plain": [
       "0.7101200686106347"
      ]
     },
     "execution_count": 238,
     "metadata": {},
     "output_type": "execute_result"
    }
   ],
   "source": [
    "recall_score(y_test,y_pred)"
   ]
  },
  {
   "cell_type": "code",
   "execution_count": 239,
   "id": "feb7b5ea",
   "metadata": {
    "execution": {
     "iopub.execute_input": "2023-08-19T11:08:19.127711Z",
     "iopub.status.busy": "2023-08-19T11:08:19.127297Z",
     "iopub.status.idle": "2023-08-19T11:08:19.136655Z",
     "shell.execute_reply": "2023-08-19T11:08:19.135458Z"
    },
    "papermill": {
     "duration": 0.059944,
     "end_time": "2023-08-19T11:08:19.139217",
     "exception": false,
     "start_time": "2023-08-19T11:08:19.079273",
     "status": "completed"
    },
    "tags": []
   },
   "outputs": [
    {
     "data": {
      "text/plain": [
       "0.7228127555192151"
      ]
     },
     "execution_count": 239,
     "metadata": {},
     "output_type": "execute_result"
    }
   ],
   "source": [
    "accuracy_score(y_test,y_pred)"
   ]
  },
  {
   "cell_type": "code",
   "execution_count": 240,
   "id": "0dcf63ca",
   "metadata": {
    "execution": {
     "iopub.execute_input": "2023-08-19T11:08:19.233703Z",
     "iopub.status.busy": "2023-08-19T11:08:19.232979Z",
     "iopub.status.idle": "2023-08-19T11:08:19.243209Z",
     "shell.execute_reply": "2023-08-19T11:08:19.242004Z"
    },
    "papermill": {
     "duration": 0.060341,
     "end_time": "2023-08-19T11:08:19.245568",
     "exception": false,
     "start_time": "2023-08-19T11:08:19.185227",
     "status": "completed"
    },
    "tags": []
   },
   "outputs": [
    {
     "data": {
      "text/plain": [
       "0.7095115681233933"
      ]
     },
     "execution_count": 240,
     "metadata": {},
     "output_type": "execute_result"
    }
   ],
   "source": [
    "f1_score(y_test,y_pred)"
   ]
  },
  {
   "cell_type": "code",
   "execution_count": 241,
   "id": "06b9624e",
   "metadata": {
    "execution": {
     "iopub.execute_input": "2023-08-19T11:08:19.341104Z",
     "iopub.status.busy": "2023-08-19T11:08:19.340403Z",
     "iopub.status.idle": "2023-08-19T11:08:19.670326Z",
     "shell.execute_reply": "2023-08-19T11:08:19.668936Z"
    },
    "papermill": {
     "duration": 0.380138,
     "end_time": "2023-08-19T11:08:19.672857",
     "exception": false,
     "start_time": "2023-08-19T11:08:19.292719",
     "status": "completed"
    },
    "tags": []
   },
   "outputs": [
    {
     "data": {
      "text/plain": [
       "<sklearn.metrics._plot.confusion_matrix.ConfusionMatrixDisplay at 0x26f4eabb8b0>"
      ]
     },
     "execution_count": 241,
     "metadata": {},
     "output_type": "execute_result"
    },
    {
     "data": {
      "image/png": "[encoded data removed]",
      "text/plain": [
       "<Figure size 432x288 with 2 Axes>"
      ]
     },
     "metadata": {
      "needs_background": "light"
     },
     "output_type": "display_data"
    }
   ],
   "source": [
    "cmd=ConfusionMatrixDisplay(confusion_matrix=confusion_matrix(y_test,y_pred,labels=svc.classes_),display_labels=svc.classes_)\n",
    "cmd.plot()"
   ]
  }
 ],
 "metadata": {
  "kernelspec": {
   "display_name": "Python 3 (ipykernel)",
   "language": "python",
   "name": "python3"
  },
  "language_info": {
   "codemirror_mode": {
    "name": "ipython",
    "version": 3
   },
   "file_extension": ".py",
   "mimetype": "text/x-python",
   "name": "python",
   "nbconvert_exporter": "python",
   "pygments_lexer": "ipython3",
   "version": "3.9.7"
  },
  "papermill": {
   "default_parameters": {},
   "duration": 34.217043,
   "end_time": "2023-08-19T11:08:21.038474",
   "environment_variables": {},
   "exception": null,
   "input_path": "__notebook__.ipynb",
   "output_path": "__notebook__.ipynb",
   "parameters": {},
   "start_time": "2023-08-19T11:07:46.821431",
   "version": "2.4.0"
  }
 },
 "nbformat": 4,
 "nbformat_minor": 5
}
